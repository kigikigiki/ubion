{
 "cells": [
  {
   "cell_type": "markdown",
   "metadata": {},
   "source": [
    "### Class 선언\n",
    "    - class 키워드를 이용하여 class 선언\n",
    "    - class 이름은 일반적으로 첫 문자는 대문자로 표기\n",
    "### Class 생성\n",
    "    - 선언이 된 class를 변수에 저장하는 과정\n",
    "### Class의 변수와 함수를 호출\n",
    "    - class가 저장되어있는 변수 안에 변수 or 함수를 호출"
   ]
  },
  {
   "cell_type": "code",
   "execution_count": 1,
   "metadata": {},
   "outputs": [],
   "source": [
    "## class 선언\n",
    "class Test :\n",
    "    # 생성자함수 (__init__) : class가 생성될 때 실행되는 함수\n",
    "    def __init__(self, _a, _b) :\n",
    "        # 객체변수(self 변수) 생성\n",
    "        self.a = _a\n",
    "        self.b = _b"
   ]
  },
  {
   "cell_type": "code",
   "execution_count": 2,
   "metadata": {},
   "outputs": [],
   "source": [
    "# class 생성\n",
    "class_1 = Test(10, 20)"
   ]
  },
  {
   "cell_type": "code",
   "execution_count": 4,
   "metadata": {},
   "outputs": [
    {
     "name": "stdout",
     "output_type": "stream",
     "text": [
      "<__main__.Test object at 0x0000014D9A0C9AC0>\n"
     ]
    }
   ],
   "source": [
    "print(class_1)"
   ]
  },
  {
   "cell_type": "code",
   "execution_count": 6,
   "metadata": {},
   "outputs": [
    {
     "name": "stdout",
     "output_type": "stream",
     "text": [
      "10\n",
      "20\n"
     ]
    }
   ],
   "source": [
    "# class 안에 있는 변수를 호출\n",
    "print(class_1.a)\n",
    "print(class_1.b)"
   ]
  },
  {
   "cell_type": "code",
   "execution_count": 7,
   "metadata": {},
   "outputs": [],
   "source": [
    "class_2 = Test(30, 40)"
   ]
  },
  {
   "cell_type": "code",
   "execution_count": 10,
   "metadata": {},
   "outputs": [
    {
     "name": "stdout",
     "output_type": "stream",
     "text": [
      "10\n",
      "30\n"
     ]
    }
   ],
   "source": [
    "print(class_1.a)\n",
    "print(class_2.a)"
   ]
  },
  {
   "cell_type": "code",
   "execution_count": 11,
   "metadata": {},
   "outputs": [],
   "source": [
    "## class 선언 : 변수 + 함수\n",
    "class Test2 : \n",
    "    def __init__(self, _a, _b) :\n",
    "        self.a = _a\n",
    "        self.b = _b\n",
    "\n",
    "    def add(self) :\n",
    "        result = self.a + self.b\n",
    "        return result"
   ]
  },
  {
   "cell_type": "code",
   "execution_count": 13,
   "metadata": {},
   "outputs": [],
   "source": [
    "class_1 = Test2(10, 20)\n",
    "class_2 = Test2(30, 40)"
   ]
  },
  {
   "cell_type": "code",
   "execution_count": 14,
   "metadata": {},
   "outputs": [
    {
     "name": "stdout",
     "output_type": "stream",
     "text": [
      "30\n",
      "70\n"
     ]
    }
   ],
   "source": [
    "# class 안에 있는 함수를 호출\n",
    "print(class_1.add())\n",
    "print(class_2.add())"
   ]
  },
  {
   "cell_type": "code",
   "execution_count": 45,
   "metadata": {},
   "outputs": [],
   "source": [
    "class Test3 :\n",
    "    def __init__(self, _a, _b) :\n",
    "        self.a = _a\n",
    "        self.b = _b\n",
    "        self.res = 0\n",
    "    ## 생성된 클래스를 호출할 때 실행되는 함수\n",
    "    def __repr__(self) :\n",
    "        return str(self.res)\n",
    "    \n",
    "    def add(self) :\n",
    "        result = self.a + self.b\n",
    "        return result\n",
    "    \n",
    "    def sub(self) :\n",
    "        result = self.a - self.b\n",
    "        self.res = result"
   ]
  },
  {
   "cell_type": "code",
   "execution_count": 46,
   "metadata": {},
   "outputs": [
    {
     "name": "stdout",
     "output_type": "stream",
     "text": [
      "30\n",
      "70\n"
     ]
    }
   ],
   "source": [
    "class_1 = Test3(10,20)\n",
    "class_2 = Test3(30,40)\n",
    "\n",
    "print(class_1.add())\n",
    "print(class_2.add())"
   ]
  },
  {
   "cell_type": "code",
   "execution_count": 48,
   "metadata": {},
   "outputs": [
    {
     "name": "stdout",
     "output_type": "stream",
     "text": [
      "None\n",
      "None\n"
     ]
    }
   ],
   "source": [
    "print(class_2.sub())\n",
    "print(class_1.sub())"
   ]
  },
  {
   "cell_type": "code",
   "execution_count": 58,
   "metadata": {},
   "outputs": [
    {
     "name": "stdout",
     "output_type": "stream",
     "text": [
      "<class '__main__.Test3'>\n",
      "-10\n"
     ]
    }
   ],
   "source": [
    "a = class_1\n",
    "print(type(a))\n",
    "print(class_2)"
   ]
  },
  {
   "cell_type": "code",
   "execution_count": 50,
   "metadata": {},
   "outputs": [],
   "source": [
    "## 클래스 변수가 포함되어 있는 class 선언\n",
    "## 클래스 변수 : 같은 class가 생성될 때, 서로 공유하는 변수\n",
    "## 객체 변수 : class 마다 독립적인 데이터를 가지는 변수\n",
    "\n",
    "class Test4 :\n",
    "    user_list = []\n",
    "\n",
    "    def __init__(self, _id, _name) :\n",
    "        self.id = _id\n",
    "        self.name = _name\n",
    "        self.user_list.append(_id)\n",
    "    "
   ]
  },
  {
   "cell_type": "code",
   "execution_count": 51,
   "metadata": {},
   "outputs": [],
   "source": [
    "user_1 = Test4('test', 'kim')"
   ]
  },
  {
   "cell_type": "code",
   "execution_count": 53,
   "metadata": {},
   "outputs": [
    {
     "name": "stdout",
     "output_type": "stream",
     "text": [
      "test\n",
      "kim\n",
      "['test']\n"
     ]
    }
   ],
   "source": [
    "print(user_1.id)\n",
    "print(user_1.name)\n",
    "print(user_1.user_list)"
   ]
  },
  {
   "cell_type": "code",
   "execution_count": 54,
   "metadata": {},
   "outputs": [],
   "source": [
    "user_2 = Test4('test2', 'park')"
   ]
  },
  {
   "cell_type": "code",
   "execution_count": 55,
   "metadata": {},
   "outputs": [
    {
     "name": "stdout",
     "output_type": "stream",
     "text": [
      "test2\n",
      "park\n",
      "['test', 'test2']\n"
     ]
    }
   ],
   "source": [
    "print(user_2.id)\n",
    "print(user_2.name)\n",
    "print(user_2.user_list)"
   ]
  },
  {
   "cell_type": "code",
   "execution_count": 56,
   "metadata": {},
   "outputs": [
    {
     "name": "stdout",
     "output_type": "stream",
     "text": [
      "['test', 'test2']\n"
     ]
    }
   ],
   "source": [
    "print(user_1.user_list)"
   ]
  }
 ],
 "metadata": {
  "kernelspec": {
   "display_name": "Python 3",
   "language": "python",
   "name": "python3"
  },
  "language_info": {
   "codemirror_mode": {
    "name": "ipython",
    "version": 3
   },
   "file_extension": ".py",
   "mimetype": "text/x-python",
   "name": "python",
   "nbconvert_exporter": "python",
   "pygments_lexer": "ipython3",
   "version": "3.9.13"
  }
 },
 "nbformat": 4,
 "nbformat_minor": 2
}
