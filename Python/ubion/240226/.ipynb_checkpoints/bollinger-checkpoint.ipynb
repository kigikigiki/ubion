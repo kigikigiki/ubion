{
 "cells": [
  {
   "cell_type": "markdown",
   "metadata": {},
   "source": [
    "## 볼린저 밴드 투자 전략\n",
    "1. 이동 평균선 생성 : 데이터 20개의 평균 값\n",
    "2. 상단 밴드 생성 : 이동평균선 + (2 * 20개의 데이터 표준편차)\n",
    "3. 하단 밴드 생성 : 이동평균선 + (2 * 20개의 데이터 표준편차)\n",
    "4. 가격이 하단 밴드보다 낮은 경우 매수\n",
    "5. 가격이 상단 밴드보다 높은 경우 매도"
   ]
  },
  {
   "cell_type": "code",
   "execution_count": 2,
   "metadata": {},
   "outputs": [],
   "source": [
    "import pandas as pd\n",
    "import numpy as np\n",
    "import matplotlib.pyplot as plt\n",
    "from datetime import datetime"
   ]
  },
  {
   "cell_type": "code",
   "execution_count": 3,
   "metadata": {},
   "outputs": [
    {
     "data": {
      "text/html": [
       "<div>\n",
       "<style scoped>\n",
       "    .dataframe tbody tr th:only-of-type {\n",
       "        vertical-align: middle;\n",
       "    }\n",
       "\n",
       "    .dataframe tbody tr th {\n",
       "        vertical-align: top;\n",
       "    }\n",
       "\n",
       "    .dataframe thead th {\n",
       "        text-align: right;\n",
       "    }\n",
       "</style>\n",
       "<table border=\"1\" class=\"dataframe\">\n",
       "  <thead>\n",
       "    <tr style=\"text-align: right;\">\n",
       "      <th></th>\n",
       "      <th>Open</th>\n",
       "      <th>High</th>\n",
       "      <th>Low</th>\n",
       "      <th>Close</th>\n",
       "      <th>Adj Close</th>\n",
       "      <th>Volume</th>\n",
       "    </tr>\n",
       "    <tr>\n",
       "      <th>Date</th>\n",
       "      <th></th>\n",
       "      <th></th>\n",
       "      <th></th>\n",
       "      <th></th>\n",
       "      <th></th>\n",
       "      <th></th>\n",
       "    </tr>\n",
       "  </thead>\n",
       "  <tbody>\n",
       "    <tr>\n",
       "      <th>1980-12-12</th>\n",
       "      <td>0.513393</td>\n",
       "      <td>0.515625</td>\n",
       "      <td>0.513393</td>\n",
       "      <td>0.513393</td>\n",
       "      <td>0.410525</td>\n",
       "      <td>117258400.0</td>\n",
       "    </tr>\n",
       "  </tbody>\n",
       "</table>\n",
       "</div>"
      ],
      "text/plain": [
       "                Open      High       Low     Close  Adj Close       Volume\n",
       "Date                                                                      \n",
       "1980-12-12  0.513393  0.515625  0.513393  0.513393   0.410525  117258400.0"
      ]
     },
     "execution_count": 3,
     "metadata": {},
     "output_type": "execute_result"
    }
   ],
   "source": [
    "df = pd.read_csv(\"../../../../csv/AAPL.csv\", index_col='Date')\n",
    "df.head(1)"
   ]
  },
  {
   "cell_type": "code",
   "execution_count": 4,
   "metadata": {},
   "outputs": [],
   "source": [
    "# 결측치, 무한대 데이터를 제거\n",
    "flag = df.isin([np.nan, np.inf, -np.inf]).any(axis=1)"
   ]
  },
  {
   "cell_type": "code",
   "execution_count": 5,
   "metadata": {},
   "outputs": [],
   "source": [
    "df = df.loc[~flag,['Adj Close']]"
   ]
  },
  {
   "cell_type": "code",
   "execution_count": 6,
   "metadata": {},
   "outputs": [
    {
     "data": {
      "text/plain": [
       "0.4432777"
      ]
     },
     "execution_count": 6,
     "metadata": {},
     "output_type": "execute_result"
    }
   ],
   "source": [
    "## 이평선 생성\n",
    "## 데이터들을 20개 모아서 평균\n",
    "df.iloc[0:20,0].mean()"
   ]
  },
  {
   "cell_type": "code",
   "execution_count": 7,
   "metadata": {},
   "outputs": [],
   "source": [
    "## 이동평균선 컬럼을 생성 값들은 결측치로 대입\n",
    "df['center'] = np.nan"
   ]
  },
  {
   "cell_type": "code",
   "execution_count": 8,
   "metadata": {},
   "outputs": [
    {
     "data": {
      "text/html": [
       "<div>\n",
       "<style scoped>\n",
       "    .dataframe tbody tr th:only-of-type {\n",
       "        vertical-align: middle;\n",
       "    }\n",
       "\n",
       "    .dataframe tbody tr th {\n",
       "        vertical-align: top;\n",
       "    }\n",
       "\n",
       "    .dataframe thead th {\n",
       "        text-align: right;\n",
       "    }\n",
       "</style>\n",
       "<table border=\"1\" class=\"dataframe\">\n",
       "  <thead>\n",
       "    <tr style=\"text-align: right;\">\n",
       "      <th></th>\n",
       "      <th>Adj Close</th>\n",
       "      <th>center</th>\n",
       "    </tr>\n",
       "    <tr>\n",
       "      <th>Date</th>\n",
       "      <th></th>\n",
       "      <th></th>\n",
       "    </tr>\n",
       "  </thead>\n",
       "  <tbody>\n",
       "    <tr>\n",
       "      <th>1980-12-12</th>\n",
       "      <td>0.410525</td>\n",
       "      <td>NaN</td>\n",
       "    </tr>\n",
       "    <tr>\n",
       "      <th>1980-12-15</th>\n",
       "      <td>0.389106</td>\n",
       "      <td>NaN</td>\n",
       "    </tr>\n",
       "    <tr>\n",
       "      <th>1980-12-16</th>\n",
       "      <td>0.360548</td>\n",
       "      <td>NaN</td>\n",
       "    </tr>\n",
       "  </tbody>\n",
       "</table>\n",
       "</div>"
      ],
      "text/plain": [
       "            Adj Close  center\n",
       "Date                         \n",
       "1980-12-12   0.410525     NaN\n",
       "1980-12-15   0.389106     NaN\n",
       "1980-12-16   0.360548     NaN"
      ]
     },
     "execution_count": 8,
     "metadata": {},
     "output_type": "execute_result"
    }
   ],
   "source": [
    "df.head(3)"
   ]
  },
  {
   "cell_type": "code",
   "execution_count": 9,
   "metadata": {},
   "outputs": [
    {
     "data": {
      "text/html": [
       "<div>\n",
       "<style scoped>\n",
       "    .dataframe tbody tr th:only-of-type {\n",
       "        vertical-align: middle;\n",
       "    }\n",
       "\n",
       "    .dataframe tbody tr th {\n",
       "        vertical-align: top;\n",
       "    }\n",
       "\n",
       "    .dataframe thead th {\n",
       "        text-align: right;\n",
       "    }\n",
       "</style>\n",
       "<table border=\"1\" class=\"dataframe\">\n",
       "  <thead>\n",
       "    <tr style=\"text-align: right;\">\n",
       "      <th></th>\n",
       "      <th>Adj Close</th>\n",
       "      <th>center</th>\n",
       "    </tr>\n",
       "    <tr>\n",
       "      <th>Date</th>\n",
       "      <th></th>\n",
       "      <th></th>\n",
       "    </tr>\n",
       "  </thead>\n",
       "  <tbody>\n",
       "    <tr>\n",
       "      <th>1980-12-12</th>\n",
       "      <td>0.410525</td>\n",
       "      <td>NaN</td>\n",
       "    </tr>\n",
       "    <tr>\n",
       "      <th>1980-12-15</th>\n",
       "      <td>0.389106</td>\n",
       "      <td>NaN</td>\n",
       "    </tr>\n",
       "    <tr>\n",
       "      <th>1980-12-16</th>\n",
       "      <td>0.360548</td>\n",
       "      <td>NaN</td>\n",
       "    </tr>\n",
       "    <tr>\n",
       "      <th>1980-12-17</th>\n",
       "      <td>0.369472</td>\n",
       "      <td>NaN</td>\n",
       "    </tr>\n",
       "    <tr>\n",
       "      <th>1980-12-18</th>\n",
       "      <td>0.380182</td>\n",
       "      <td>NaN</td>\n",
       "    </tr>\n",
       "    <tr>\n",
       "      <th>...</th>\n",
       "      <td>...</td>\n",
       "      <td>...</td>\n",
       "    </tr>\n",
       "    <tr>\n",
       "      <th>2019-06-18</th>\n",
       "      <td>198.449997</td>\n",
       "      <td>185.4325</td>\n",
       "    </tr>\n",
       "    <tr>\n",
       "      <th>2019-06-19</th>\n",
       "      <td>197.869995</td>\n",
       "      <td>185.9960</td>\n",
       "    </tr>\n",
       "    <tr>\n",
       "      <th>2019-06-20</th>\n",
       "      <td>199.460007</td>\n",
       "      <td>186.8300</td>\n",
       "    </tr>\n",
       "    <tr>\n",
       "      <th>2019-06-21</th>\n",
       "      <td>198.779999</td>\n",
       "      <td>187.7860</td>\n",
       "    </tr>\n",
       "    <tr>\n",
       "      <th>2019-06-24</th>\n",
       "      <td>199.169998</td>\n",
       "      <td>188.7960</td>\n",
       "    </tr>\n",
       "  </tbody>\n",
       "</table>\n",
       "<p>9713 rows × 2 columns</p>\n",
       "</div>"
      ],
      "text/plain": [
       "             Adj Close    center\n",
       "Date                            \n",
       "1980-12-12    0.410525       NaN\n",
       "1980-12-15    0.389106       NaN\n",
       "1980-12-16    0.360548       NaN\n",
       "1980-12-17    0.369472       NaN\n",
       "1980-12-18    0.380182       NaN\n",
       "...                ...       ...\n",
       "2019-06-18  198.449997  185.4325\n",
       "2019-06-19  197.869995  185.9960\n",
       "2019-06-20  199.460007  186.8300\n",
       "2019-06-21  198.779999  187.7860\n",
       "2019-06-24  199.169998  188.7960\n",
       "\n",
       "[9713 rows x 2 columns]"
      ]
     },
     "execution_count": 9,
     "metadata": {},
     "output_type": "execute_result"
    }
   ],
   "source": [
    "for i in range(20, len(df)+1) :\n",
    "    mean_data = df.iloc[i-20:i,0].mean()\n",
    "    df.iloc[i-1,1] = mean_data\n",
    "df"
   ]
  },
  {
   "cell_type": "code",
   "execution_count": 10,
   "metadata": {},
   "outputs": [],
   "source": [
    "# 그룹연산 방법\n",
    "# rolling(n) : n만큼 데이터의 개수를 그룹\n",
    "df['center2'] = df['Adj Close'].rolling(20).mean()"
   ]
  },
  {
   "cell_type": "code",
   "execution_count": 11,
   "metadata": {},
   "outputs": [
    {
     "data": {
      "text/html": [
       "<div>\n",
       "<style scoped>\n",
       "    .dataframe tbody tr th:only-of-type {\n",
       "        vertical-align: middle;\n",
       "    }\n",
       "\n",
       "    .dataframe tbody tr th {\n",
       "        vertical-align: top;\n",
       "    }\n",
       "\n",
       "    .dataframe thead th {\n",
       "        text-align: right;\n",
       "    }\n",
       "</style>\n",
       "<table border=\"1\" class=\"dataframe\">\n",
       "  <thead>\n",
       "    <tr style=\"text-align: right;\">\n",
       "      <th></th>\n",
       "      <th>Adj Close</th>\n",
       "      <th>center</th>\n",
       "      <th>center2</th>\n",
       "    </tr>\n",
       "    <tr>\n",
       "      <th>Date</th>\n",
       "      <th></th>\n",
       "      <th></th>\n",
       "      <th></th>\n",
       "    </tr>\n",
       "  </thead>\n",
       "  <tbody>\n",
       "    <tr>\n",
       "      <th>1981-01-09</th>\n",
       "      <td>0.455147</td>\n",
       "      <td>NaN</td>\n",
       "      <td>NaN</td>\n",
       "    </tr>\n",
       "    <tr>\n",
       "      <th>1981-01-12</th>\n",
       "      <td>0.451577</td>\n",
       "      <td>0.443278</td>\n",
       "      <td>0.443278</td>\n",
       "    </tr>\n",
       "    <tr>\n",
       "      <th>1981-01-13</th>\n",
       "      <td>0.435513</td>\n",
       "      <td>0.444527</td>\n",
       "      <td>0.444527</td>\n",
       "    </tr>\n",
       "    <tr>\n",
       "      <th>1981-01-14</th>\n",
       "      <td>0.437298</td>\n",
       "      <td>0.446937</td>\n",
       "      <td>0.446937</td>\n",
       "    </tr>\n",
       "    <tr>\n",
       "      <th>1981-01-15</th>\n",
       "      <td>0.446223</td>\n",
       "      <td>0.451220</td>\n",
       "      <td>0.451220</td>\n",
       "    </tr>\n",
       "  </tbody>\n",
       "</table>\n",
       "</div>"
      ],
      "text/plain": [
       "            Adj Close    center   center2\n",
       "Date                                     \n",
       "1981-01-09   0.455147       NaN       NaN\n",
       "1981-01-12   0.451577  0.443278  0.443278\n",
       "1981-01-13   0.435513  0.444527  0.444527\n",
       "1981-01-14   0.437298  0.446937  0.446937\n",
       "1981-01-15   0.446223  0.451220  0.451220"
      ]
     },
     "execution_count": 11,
     "metadata": {},
     "output_type": "execute_result"
    }
   ],
   "source": [
    "df.iloc[18:23]"
   ]
  },
  {
   "cell_type": "code",
   "execution_count": 12,
   "metadata": {},
   "outputs": [],
   "source": [
    "# 상단 밴드, 하단 밴드 생성\n",
    "# 상단 밴드 = 이동평균선 + (2 * 20개 데이터의 표준편차)\n",
    "df['ub'] = df['center'] + (2 * df['Adj Close'].rolling(20).std())\n",
    "# 하단 밴드 = 이동평균선 - (2 * 20개 데이터의 표준편차)\n",
    "df['lb'] = df['center'] - (2 * df['Adj Close'].rolling(20).std())"
   ]
  },
  {
   "cell_type": "code",
   "execution_count": 13,
   "metadata": {},
   "outputs": [
    {
     "data": {
      "text/html": [
       "<div>\n",
       "<style scoped>\n",
       "    .dataframe tbody tr th:only-of-type {\n",
       "        vertical-align: middle;\n",
       "    }\n",
       "\n",
       "    .dataframe tbody tr th {\n",
       "        vertical-align: top;\n",
       "    }\n",
       "\n",
       "    .dataframe thead th {\n",
       "        text-align: right;\n",
       "    }\n",
       "</style>\n",
       "<table border=\"1\" class=\"dataframe\">\n",
       "  <thead>\n",
       "    <tr style=\"text-align: right;\">\n",
       "      <th></th>\n",
       "      <th>Adj Close</th>\n",
       "      <th>center</th>\n",
       "      <th>center2</th>\n",
       "      <th>ub</th>\n",
       "      <th>lb</th>\n",
       "    </tr>\n",
       "    <tr>\n",
       "      <th>Date</th>\n",
       "      <th></th>\n",
       "      <th></th>\n",
       "      <th></th>\n",
       "      <th></th>\n",
       "      <th></th>\n",
       "    </tr>\n",
       "  </thead>\n",
       "  <tbody>\n",
       "    <tr>\n",
       "      <th>1981-01-09</th>\n",
       "      <td>0.455147</td>\n",
       "      <td>NaN</td>\n",
       "      <td>NaN</td>\n",
       "      <td>NaN</td>\n",
       "      <td>NaN</td>\n",
       "    </tr>\n",
       "    <tr>\n",
       "      <th>1981-01-12</th>\n",
       "      <td>0.451577</td>\n",
       "      <td>0.443278</td>\n",
       "      <td>0.443278</td>\n",
       "      <td>0.536950</td>\n",
       "      <td>0.349605</td>\n",
       "    </tr>\n",
       "    <tr>\n",
       "      <th>1981-01-13</th>\n",
       "      <td>0.435513</td>\n",
       "      <td>0.444527</td>\n",
       "      <td>0.444527</td>\n",
       "      <td>0.537019</td>\n",
       "      <td>0.352035</td>\n",
       "    </tr>\n",
       "    <tr>\n",
       "      <th>1981-01-14</th>\n",
       "      <td>0.437298</td>\n",
       "      <td>0.446937</td>\n",
       "      <td>0.446937</td>\n",
       "      <td>0.535789</td>\n",
       "      <td>0.358084</td>\n",
       "    </tr>\n",
       "    <tr>\n",
       "      <th>1981-01-15</th>\n",
       "      <td>0.446223</td>\n",
       "      <td>0.451220</td>\n",
       "      <td>0.451220</td>\n",
       "      <td>0.530255</td>\n",
       "      <td>0.372186</td>\n",
       "    </tr>\n",
       "  </tbody>\n",
       "</table>\n",
       "</div>"
      ],
      "text/plain": [
       "            Adj Close    center   center2        ub        lb\n",
       "Date                                                         \n",
       "1981-01-09   0.455147       NaN       NaN       NaN       NaN\n",
       "1981-01-12   0.451577  0.443278  0.443278  0.536950  0.349605\n",
       "1981-01-13   0.435513  0.444527  0.444527  0.537019  0.352035\n",
       "1981-01-14   0.437298  0.446937  0.446937  0.535789  0.358084\n",
       "1981-01-15   0.446223  0.451220  0.451220  0.530255  0.372186"
      ]
     },
     "execution_count": 13,
     "metadata": {},
     "output_type": "execute_result"
    }
   ],
   "source": [
    "df.iloc[18:23]"
   ]
  },
  {
   "cell_type": "code",
   "execution_count": 14,
   "metadata": {},
   "outputs": [],
   "source": [
    "df.index = pd.to_datetime(df.index, format='%Y-%m-%d')"
   ]
  },
  {
   "cell_type": "code",
   "execution_count": 15,
   "metadata": {},
   "outputs": [
    {
     "data": {
      "image/png": "[encoded data removed]",
      "text/plain": [
       "<Figure size 1400x800 with 1 Axes>"
      ]
     },
     "metadata": {},
     "output_type": "display_data"
    }
   ],
   "source": [
    "x = df.tail(175).index\n",
    "price_y = df.tail(175)['Adj Close']\n",
    "ub_y = df.tail(175)['ub']\n",
    "lb_y = df.tail(175)['lb']\n",
    "\n",
    "plt.figure(figsize = (14,8))\n",
    "plt.plot(x, price_y)\n",
    "plt.plot(x, ub_y)\n",
    "plt.plot(x, lb_y)\n",
    "plt.show()"
   ]
  },
  {
   "cell_type": "code",
   "execution_count": 16,
   "metadata": {},
   "outputs": [
    {
     "data": {
      "text/plain": [
       "<Axes: xlabel='Date'>"
      ]
     },
     "execution_count": 16,
     "metadata": {},
     "output_type": "execute_result"
    },
    {
     "data": {
      "image/png": "[encoded data removed]",
      "text/plain": [
       "<Figure size 640x480 with 1 Axes>"
      ]
     },
     "metadata": {},
     "output_type": "display_data"
    }
   ],
   "source": [
    "df.head(500)[['Adj Close','ub','lb']].plot()"
   ]
  },
  {
   "cell_type": "code",
   "execution_count": 17,
   "metadata": {},
   "outputs": [],
   "source": [
    "# 투자 기간 선택\n",
    "start = '2010-01-01'"
   ]
  },
  {
   "cell_type": "code",
   "execution_count": 18,
   "metadata": {},
   "outputs": [],
   "source": [
    "# start는 시계열로 변경\n",
    "start = datetime.strptime(start, '%Y-%m-%d')"
   ]
  },
  {
   "cell_type": "code",
   "execution_count": 19,
   "metadata": {},
   "outputs": [],
   "source": [
    "test_df = df.loc[start:,]"
   ]
  },
  {
   "cell_type": "code",
   "execution_count": 20,
   "metadata": {},
   "outputs": [
    {
     "name": "stderr",
     "output_type": "stream",
     "text": [
      "C:\\Users\\hyungjun\\AppData\\Local\\Temp\\ipykernel_10756\\2710083673.py:1: SettingWithCopyWarning: \n",
      "A value is trying to be set on a copy of a slice from a DataFrame.\n",
      "Try using .loc[row_indexer,col_indexer] = value instead\n",
      "\n",
      "See the caveats in the documentation: https://pandas.pydata.org/pandas-docs/stable/user_guide/indexing.html#returning-a-view-versus-a-copy\n",
      "  test_df['trade'] = \"\"\n"
     ]
    }
   ],
   "source": [
    "test_df['trade'] = \"\""
   ]
  },
  {
   "cell_type": "markdown",
   "metadata": {},
   "source": [
    "### 보유 내역 추가\n",
    "- 조건식\n",
    "    - 상단밴드보다 수정 주가가 높거나 같은 경우\n",
    "        - 현재 보유상태라면\n",
    "            - 매도 (trade = \"\")\n",
    "        - 보유 상태가 아니라면\n",
    "            - 유지 (trade = \"\")\n",
    "    - 상단밴드보다 낮고 하단밴드보다 높은 경우\n",
    "        - 현재 보유상태라면\n",
    "            - 유지 (trade = \"buy\")\n",
    "        - 보유 상태가 아니라면\n",
    "            - 유지 (trade = \"\")\n",
    "    - 하단밴드보다 낮거나 같은 경우\n",
    "        - 현재 보유 상태라면\n",
    "            - 유지 (trade = \"buy\")\n",
    "        - 보유 상태가 아니라면\n",
    "            - 매수 (trade = \"buy\")"
   ]
  },
  {
   "cell_type": "code",
   "execution_count": 21,
   "metadata": {},
   "outputs": [
    {
     "data": {
      "text/html": [
       "<div>\n",
       "<style scoped>\n",
       "    .dataframe tbody tr th:only-of-type {\n",
       "        vertical-align: middle;\n",
       "    }\n",
       "\n",
       "    .dataframe tbody tr th {\n",
       "        vertical-align: top;\n",
       "    }\n",
       "\n",
       "    .dataframe thead th {\n",
       "        text-align: right;\n",
       "    }\n",
       "</style>\n",
       "<table border=\"1\" class=\"dataframe\">\n",
       "  <thead>\n",
       "    <tr style=\"text-align: right;\">\n",
       "      <th></th>\n",
       "      <th>Adj Close</th>\n",
       "      <th>center</th>\n",
       "      <th>center2</th>\n",
       "      <th>ub</th>\n",
       "      <th>lb</th>\n",
       "      <th>trade</th>\n",
       "    </tr>\n",
       "    <tr>\n",
       "      <th>Date</th>\n",
       "      <th></th>\n",
       "      <th></th>\n",
       "      <th></th>\n",
       "      <th></th>\n",
       "      <th></th>\n",
       "      <th></th>\n",
       "    </tr>\n",
       "  </thead>\n",
       "  <tbody>\n",
       "    <tr>\n",
       "      <th>2010-01-04</th>\n",
       "      <td>26.782711</td>\n",
       "      <td>25.037723</td>\n",
       "      <td>25.037723</td>\n",
       "      <td>27.046734</td>\n",
       "      <td>23.028713</td>\n",
       "      <td></td>\n",
       "    </tr>\n",
       "    <tr>\n",
       "      <th>2010-01-05</th>\n",
       "      <td>26.829010</td>\n",
       "      <td>25.169503</td>\n",
       "      <td>25.169503</td>\n",
       "      <td>27.288098</td>\n",
       "      <td>23.050908</td>\n",
       "      <td></td>\n",
       "    </tr>\n",
       "    <tr>\n",
       "      <th>2010-01-06</th>\n",
       "      <td>26.402260</td>\n",
       "      <td>25.307290</td>\n",
       "      <td>25.307290</td>\n",
       "      <td>27.366449</td>\n",
       "      <td>23.248130</td>\n",
       "      <td></td>\n",
       "    </tr>\n",
       "    <tr>\n",
       "      <th>2010-01-07</th>\n",
       "      <td>26.353460</td>\n",
       "      <td>25.436879</td>\n",
       "      <td>25.436879</td>\n",
       "      <td>27.410937</td>\n",
       "      <td>23.462821</td>\n",
       "      <td></td>\n",
       "    </tr>\n",
       "    <tr>\n",
       "      <th>2010-01-08</th>\n",
       "      <td>26.528664</td>\n",
       "      <td>25.525609</td>\n",
       "      <td>25.525609</td>\n",
       "      <td>27.529742</td>\n",
       "      <td>23.521475</td>\n",
       "      <td></td>\n",
       "    </tr>\n",
       "    <tr>\n",
       "      <th>...</th>\n",
       "      <td>...</td>\n",
       "      <td>...</td>\n",
       "      <td>...</td>\n",
       "      <td>...</td>\n",
       "      <td>...</td>\n",
       "      <td>...</td>\n",
       "    </tr>\n",
       "    <tr>\n",
       "      <th>2019-06-18</th>\n",
       "      <td>198.449997</td>\n",
       "      <td>185.432500</td>\n",
       "      <td>185.432500</td>\n",
       "      <td>201.032574</td>\n",
       "      <td>169.832427</td>\n",
       "      <td></td>\n",
       "    </tr>\n",
       "    <tr>\n",
       "      <th>2019-06-19</th>\n",
       "      <td>197.869995</td>\n",
       "      <td>185.996000</td>\n",
       "      <td>185.996000</td>\n",
       "      <td>202.558154</td>\n",
       "      <td>169.433846</td>\n",
       "      <td></td>\n",
       "    </tr>\n",
       "    <tr>\n",
       "      <th>2019-06-20</th>\n",
       "      <td>199.460007</td>\n",
       "      <td>186.830000</td>\n",
       "      <td>186.830000</td>\n",
       "      <td>204.361771</td>\n",
       "      <td>169.298229</td>\n",
       "      <td></td>\n",
       "    </tr>\n",
       "    <tr>\n",
       "      <th>2019-06-21</th>\n",
       "      <td>198.779999</td>\n",
       "      <td>187.786000</td>\n",
       "      <td>187.786000</td>\n",
       "      <td>205.751400</td>\n",
       "      <td>169.820600</td>\n",
       "      <td></td>\n",
       "    </tr>\n",
       "    <tr>\n",
       "      <th>2019-06-24</th>\n",
       "      <td>199.169998</td>\n",
       "      <td>188.796000</td>\n",
       "      <td>188.796000</td>\n",
       "      <td>206.944862</td>\n",
       "      <td>170.647138</td>\n",
       "      <td></td>\n",
       "    </tr>\n",
       "  </tbody>\n",
       "</table>\n",
       "<p>2384 rows × 6 columns</p>\n",
       "</div>"
      ],
      "text/plain": [
       "             Adj Close      center     center2          ub          lb trade\n",
       "Date                                                                        \n",
       "2010-01-04   26.782711   25.037723   25.037723   27.046734   23.028713      \n",
       "2010-01-05   26.829010   25.169503   25.169503   27.288098   23.050908      \n",
       "2010-01-06   26.402260   25.307290   25.307290   27.366449   23.248130      \n",
       "2010-01-07   26.353460   25.436879   25.436879   27.410937   23.462821      \n",
       "2010-01-08   26.528664   25.525609   25.525609   27.529742   23.521475      \n",
       "...                ...         ...         ...         ...         ...   ...\n",
       "2019-06-18  198.449997  185.432500  185.432500  201.032574  169.832427      \n",
       "2019-06-19  197.869995  185.996000  185.996000  202.558154  169.433846      \n",
       "2019-06-20  199.460007  186.830000  186.830000  204.361771  169.298229      \n",
       "2019-06-21  198.779999  187.786000  187.786000  205.751400  169.820600      \n",
       "2019-06-24  199.169998  188.796000  188.796000  206.944862  170.647138      \n",
       "\n",
       "[2384 rows x 6 columns]"
      ]
     },
     "execution_count": 21,
     "metadata": {},
     "output_type": "execute_result"
    }
   ],
   "source": [
    "test_df"
   ]
  },
  {
   "cell_type": "code",
   "execution_count": 22,
   "metadata": {},
   "outputs": [],
   "source": [
    "for i in test_df.index :\n",
    "    # i = test_df.index(date)\n",
    "    # 수정 주가가 상단밴드보다 높거나 같은 경우\n",
    "    if test_df.loc[i, 'Adj Close'] >= test_df.loc[i, 'ub'] :\n",
    "        # 현재 보유중이라면 -> trade를 \"\"로 변경\n",
    "        if test_df.shift().loc[i, 'trade'] == 'buy' :\n",
    "            test_df.loc[i, 'trade'] = \"\"\n",
    "            # 보유중이 아니라면\n",
    "        else : \n",
    "            test_df.loc[i, 'trade'] = \"\"\n",
    "    # 수정 주가가 하단밴드보다 낮거나 같은 경우\n",
    "    elif test_df.loc[i, 'Adj Close'] <= test_df.loc[i, 'lb']:\n",
    "        # 현재 보유중이라면 -> trade를 'buy'로 변경\n",
    "        if test_df.shift().loc[i,'trade'] == 'buy':\n",
    "            test_df.loc[i,'trade'] = 'buy'\n",
    "        # 현재 보유중이 아니라면 -> 매수\n",
    "        else :\n",
    "            test_df.loc[i, 'trade'] = 'buy'\n",
    "    # 수정 주가가 밴드 사이에 있을 때\n",
    "    else :\n",
    "        # 현재 보유상태라면 -> 유지 trade를 'buy'\n",
    "        if test_df.shift().loc[i, 'trade'] == 'buy' : \n",
    "            test_df.loc[i, 'trade'] = 'buy'\n",
    "        # 현재 보유상태가 아니라면 -> 유지 trade를 ''\n",
    "        else :\n",
    "            test_df.loc[i, 'trade'] = \"\""
   ]
  },
  {
   "cell_type": "code",
   "execution_count": 23,
   "metadata": {},
   "outputs": [
    {
     "data": {
      "text/plain": [
       "trade\n",
       "       1439\n",
       "buy     945\n",
       "Name: count, dtype: int64"
      ]
     },
     "execution_count": 23,
     "metadata": {},
     "output_type": "execute_result"
    }
   ],
   "source": [
    "test_df['trade'].value_counts()"
   ]
  },
  {
   "cell_type": "markdown",
   "metadata": {},
   "source": [
    "### 수익률 계산\n",
    "- 구매한 날의 수정 주가\n",
    "    - 전날의 trade = \"\" 오늘의 trade = \"buy\"인 날의 수정 주가\n",
    "- 판매한 날의 수정 주가\n",
    "    - 전날의 trade = \"buy\" 오늘의 trade = \"\"인 날의 수정 주가\n",
    "- 수익률\n",
    "    - 판매한 날의 수정주가 / 구매한 날의 수정주가"
   ]
  },
  {
   "cell_type": "code",
   "execution_count": 24,
   "metadata": {},
   "outputs": [
    {
     "name": "stderr",
     "output_type": "stream",
     "text": [
      "C:\\Users\\hyungjun\\AppData\\Local\\Temp\\ipykernel_10756\\3185183650.py:2: SettingWithCopyWarning: \n",
      "A value is trying to be set on a copy of a slice from a DataFrame.\n",
      "Try using .loc[row_indexer,col_indexer] = value instead\n",
      "\n",
      "See the caveats in the documentation: https://pandas.pydata.org/pandas-docs/stable/user_guide/indexing.html#returning-a-view-versus-a-copy\n",
      "  test_df['rtn'] = 1\n"
     ]
    },
    {
     "name": "stdout",
     "output_type": "stream",
     "text": [
      "매수일 : 2010-01-22 00:00:00, 매수가 24.747818\n",
      "매도일 : 2010-03-01 00:00:00, 매도가 : 26.154476, 수익률 1.0568396777445188\n",
      "매수일 : 2010-08-24 00:00:00, 매수가 30.026524\n",
      "매도일 : 2010-09-08 00:00:00, 매도가 : 32.90366, 수익률 1.0958198158401553\n",
      "매수일 : 2011-03-16 00:00:00, 매수가 41.299767\n",
      "매도일 : 2011-07-01 00:00:00, 매도가 : 42.957966, 수익률 1.040150323366231\n",
      "매수일 : 2011-11-14 00:00:00, 매수가 47.463268\n",
      "매도일 : 2011-12-27 00:00:00, 매도가 : 50.876015, 수익률 1.0719029081604747\n",
      "매수일 : 2012-04-16 00:00:00, 매수가 72.601524\n",
      "매도일 : 2012-06-18 00:00:00, 매도가 : 73.308609, 수익률 1.0097392583659814\n",
      "매수일 : 2012-10-08 00:00:00, 매수가 80.207954\n",
      "매도일 : 2013-07-29 00:00:00, 매도가 : 57.243137, 수익률 0.7136840443530077\n",
      "매수일 : 2013-09-11 00:00:00, 매수가 60.184383\n",
      "매도일 : 2013-10-18 00:00:00, 매도가 : 65.48336, 수익률 1.0880457144505413\n",
      "매수일 : 2014-01-03 00:00:00, 매수가 70.019096\n",
      "매도일 : 2014-03-25 00:00:00, 매도가 : 70.960335, 수익률 1.0134426042861222\n",
      "매수일 : 2014-10-15 00:00:00, 매수가 89.842468\n",
      "매도일 : 2014-10-23 00:00:00, 매도가 : 96.557182, 수익률 1.0747387527243797\n",
      "매수일 : 2014-12-12 00:00:00, 매수가 101.508751\n",
      "매도일 : 2015-01-28 00:00:00, 매도가 : 106.670677, 수익률 1.0508520294964518\n",
      "매수일 : 2015-03-11 00:00:00, 매수가 113.52774\n",
      "매도일 : 2015-04-23 00:00:00, 매도가 : 120.4282, 수익률 1.0607821489267735\n",
      "매수일 : 2015-06-29 00:00:00, 매수가 116.137619\n",
      "매도일 : 2015-07-20 00:00:00, 매도가 : 123.169502, 수익률 1.0605478488412958\n",
      "매수일 : 2015-08-04 00:00:00, 매수가 106.914131\n",
      "매도일 : 2015-10-22 00:00:00, 매도가 : 108.203766, 수익률 1.0120623437513607\n",
      "매수일 : 2015-12-14 00:00:00, 매수가 105.825577\n",
      "매도일 : 2016-03-01 00:00:00, 매도가 : 95.095795, 수익률 0.8986088022936081\n",
      "매수일 : 2016-04-27 00:00:00, 매수가 92.532272\n",
      "매도일 : 2016-05-24 00:00:00, 매도가 : 93.171783, 수익률 1.0069112212007503\n",
      "매수일 : 2016-06-20 00:00:00, 매수가 90.507019\n",
      "매도일 : 2016-07-18 00:00:00, 매도가 : 95.008583, 수익률 1.0497371811571874\n",
      "매수일 : 2016-09-09 00:00:00, 매수가 98.680893\n",
      "매도일 : 2016-09-14 00:00:00, 매도가 : 106.948166, 수익률 1.0837778494768993\n",
      "매수일 : 2016-11-01 00:00:00, 매수가 106.680237\n",
      "매도일 : 2016-12-13 00:00:00, 매도가 : 110.786522, 수익률 1.0384915249110291\n",
      "매수일 : 2017-06-09 00:00:00, 매수가 144.5\n",
      "매도일 : 2017-07-13 00:00:00, 매도가 : 143.32637, 수익률 0.9918779930795848\n",
      "매수일 : 2017-09-20 00:00:00, 매수가 151.971283\n",
      "매도일 : 2017-10-16 00:00:00, 매도가 : 155.681183, 수익률 1.0244118489149032\n",
      "매수일 : 2018-01-29 00:00:00, 매수가 164.136932\n",
      "매도일 : 2018-05-04 00:00:00, 매도가 : 180.378143, 수익률 1.0989491566712115\n",
      "매수일 : 2018-06-25 00:00:00, 매수가 179.438583\n",
      "매도일 : 2018-08-01 00:00:00, 매도가 : 198.47876, 수익률 1.106109715545402\n",
      "매수일 : 2018-11-02 00:00:00, 매수가 205.085831\n",
      "매도일 : 2019-01-30 00:00:00, 매도가 : 163.913071, 수익률 0.799241323502256\n",
      "매수일 : 2019-05-13 00:00:00, 매수가 185.720001\n"
     ]
    }
   ],
   "source": [
    "# 수익률 파생 변수를 생성\n",
    "test_df['rtn'] = 1\n",
    "누적수익률 = []\n",
    "for i in test_df.index :\n",
    "    # 구매가 생성\n",
    "    if (test_df.shift().loc[i,'trade'] == \"\") & (test_df.loc[i,\"trade\"] == 'buy') :\n",
    "        buy = test_df.loc[i,'Adj Close']\n",
    "        print(f\"매수일 : {i}, 매수가 {buy}\")\n",
    "    elif (test_df.shift().loc[i,'trade'] == \"buy\") & (test_df.loc[i, 'trade'] == \"\") :\n",
    "        sell = test_df.loc[i,'Adj Close']\n",
    "\n",
    "        rtn = sell / buy\n",
    "\n",
    "        test_df.loc[i, 'rtn'] = rtn\n",
    "        print(f\"매도일 : {i}, 매도가 : {sell}, 수익률 {rtn}\")"
   ]
  },
  {
   "cell_type": "code",
   "execution_count": 25,
   "metadata": {},
   "outputs": [
    {
     "data": {
      "text/plain": [
       "1.3923287814461949"
      ]
     },
     "execution_count": 25,
     "metadata": {},
     "output_type": "execute_result"
    }
   ],
   "source": [
    "acc_rtn = 1\n",
    "\n",
    "for i in test_df.index :\n",
    "    rtn = test_df.loc[i, 'rtn']\n",
    "    acc_rtn *= rtn\n",
    "\n",
    "acc_rtn"
   ]
  },
  {
   "cell_type": "code",
   "execution_count": 26,
   "metadata": {},
   "outputs": [
    {
     "name": "stderr",
     "output_type": "stream",
     "text": [
      "C:\\Users\\hyungjun\\AppData\\Local\\Temp\\ipykernel_10756\\1662436560.py:1: SettingWithCopyWarning: \n",
      "A value is trying to be set on a copy of a slice from a DataFrame.\n",
      "Try using .loc[row_indexer,col_indexer] = value instead\n",
      "\n",
      "See the caveats in the documentation: https://pandas.pydata.org/pandas-docs/stable/user_guide/indexing.html#returning-a-view-versus-a-copy\n",
      "  test_df['acc_rtn'] = test_df['rtn'].cumprod()\n"
     ]
    },
    {
     "data": {
      "text/plain": [
       "1.3923287814461949"
      ]
     },
     "execution_count": 26,
     "metadata": {},
     "output_type": "execute_result"
    }
   ],
   "source": [
    "test_df['acc_rtn'] = test_df['rtn'].cumprod()\n",
    "test_df.iloc[-1,]['acc_rtn']"
   ]
  },
  {
   "cell_type": "markdown",
   "metadata": {},
   "source": [
    "### bollinger bend 함수화\n",
    "1. 밴드를 생성하는 함수\n",
    "    - 매개변수 4개(df, 기준이 되는 컬럼명, 시작시간, 종료시간, 데이터의 개수)\n",
    "    - 기준이 되는 컬럼은 기본값을 Adj Close\n",
    "    - 시작시간은 2010-01-01\n",
    "    - 종료시간은 기본값 \"\"\n",
    "    - 데이터의 개수 : 기본값 = 20\n",
    "    - 인덱스가 Date인지 확인하여 아니라면 Date를 인덱스로 변경\n",
    "    - 인덱스를 시계열 데이터로 변경\n",
    "    - 시작시간, 종료시간을 시계열 데이터로 변경\n",
    "    - 결측치, 무한대 값을 제외\n",
    "    - 기준이 되는 컬럼을 제외하고 모두 식제\n",
    "    - 이평선, 상단밴드, 하단밴드 생성\n",
    "    - 시작시간, 종료시간으로 데이터 필터\n",
    "    - 위의 과정에서 나온 데이터프레임을 리턴"
   ]
  },
  {
   "cell_type": "code",
   "execution_count": 87,
   "metadata": {},
   "outputs": [],
   "source": [
    "def create_band (_df, _col = 'Adj Close', _start = '2010-01-01', _end = datetime.now(), _cnt = 20) :\n",
    "    \n",
    "    df = _df.copy()\n",
    "\n",
    "    # 인덱스가 Date 인가? 아니라면 Date를 인덱스로 설정\n",
    "    if \"Date\" in df.columns :\n",
    "        df.set_index(\"Date\", inplace=True)\n",
    "    \n",
    "    # 인덱스를 시계열 데이터로 변경\n",
    "    df.index = pd.to_datetime(df.index, format='%Y-%m-%d')\n",
    "\n",
    "    # 시작시간과 종료시간을 시계열로 변경\n",
    "    try :\n",
    "        start = datetime.strptime(_start, '%Y-%m-%d')\n",
    "        if type(_end) == 'str' :\n",
    "            end = datetime.strptime(_end, '%Y-%m-%d')\n",
    "        else :\n",
    "            end = _end\n",
    "    except :\n",
    "        return \"Type Erorr (YYYY-MM-DD)\"\n",
    "    \n",
    "    # 결측치와 무한대값을 제외\n",
    "    flag = df.isin([np.nan, np.inf, -np.inf]).any(axis = 1)\n",
    "    df = df.loc[~flag,]\n",
    "\n",
    "    # 기준이 되는 컬럼을 제외하고 모두 삭제\n",
    "    result = df[[_col]]\n",
    "\n",
    "    # 이평선, 상단밴드, 하단밴드\n",
    "    result['center'] = result[_col].rolling(_cnt).mean()\n",
    "    result['ub'] = result['center'] + (2 * result[_col].rolling(_cnt).std())\n",
    "    result['lb'] = result['center'] - (2 * result[_col].rolling(_cnt).std())\n",
    "    #print(result)\n",
    "    #print(type(result.index))\n",
    "    #print(start)\n",
    "    #print(end)\n",
    "    # 시작시간과 종료시간으로 필터링\n",
    "    result = result.loc[start:end, ]\n",
    "\n",
    "    return result        "
   ]
  },
  {
   "cell_type": "code",
   "execution_count": 88,
   "metadata": {},
   "outputs": [
    {
     "name": "stderr",
     "output_type": "stream",
     "text": [
      "C:\\Users\\hyungjun\\AppData\\Local\\Temp\\ipykernel_10756\\1706602896.py:30: SettingWithCopyWarning: \n",
      "A value is trying to be set on a copy of a slice from a DataFrame.\n",
      "Try using .loc[row_indexer,col_indexer] = value instead\n",
      "\n",
      "See the caveats in the documentation: https://pandas.pydata.org/pandas-docs/stable/user_guide/indexing.html#returning-a-view-versus-a-copy\n",
      "  result['center'] = result[_col].rolling(_cnt).mean()\n",
      "C:\\Users\\hyungjun\\AppData\\Local\\Temp\\ipykernel_10756\\1706602896.py:31: SettingWithCopyWarning: \n",
      "A value is trying to be set on a copy of a slice from a DataFrame.\n",
      "Try using .loc[row_indexer,col_indexer] = value instead\n",
      "\n",
      "See the caveats in the documentation: https://pandas.pydata.org/pandas-docs/stable/user_guide/indexing.html#returning-a-view-versus-a-copy\n",
      "  result['ub'] = result['center'] + (2 * result[_col].rolling(_cnt).std())\n",
      "C:\\Users\\hyungjun\\AppData\\Local\\Temp\\ipykernel_10756\\1706602896.py:32: SettingWithCopyWarning: \n",
      "A value is trying to be set on a copy of a slice from a DataFrame.\n",
      "Try using .loc[row_indexer,col_indexer] = value instead\n",
      "\n",
      "See the caveats in the documentation: https://pandas.pydata.org/pandas-docs/stable/user_guide/indexing.html#returning-a-view-versus-a-copy\n",
      "  result['lb'] = result['center'] - (2 * result[_col].rolling(_cnt).std())\n"
     ]
    },
    {
     "data": {
      "text/html": [
       "<div>\n",
       "<style scoped>\n",
       "    .dataframe tbody tr th:only-of-type {\n",
       "        vertical-align: middle;\n",
       "    }\n",
       "\n",
       "    .dataframe tbody tr th {\n",
       "        vertical-align: top;\n",
       "    }\n",
       "\n",
       "    .dataframe thead th {\n",
       "        text-align: right;\n",
       "    }\n",
       "</style>\n",
       "<table border=\"1\" class=\"dataframe\">\n",
       "  <thead>\n",
       "    <tr style=\"text-align: right;\">\n",
       "      <th></th>\n",
       "      <th>Adj Close</th>\n",
       "      <th>center</th>\n",
       "      <th>ub</th>\n",
       "      <th>lb</th>\n",
       "    </tr>\n",
       "    <tr>\n",
       "      <th>Date</th>\n",
       "      <th></th>\n",
       "      <th></th>\n",
       "      <th></th>\n",
       "      <th></th>\n",
       "    </tr>\n",
       "  </thead>\n",
       "  <tbody>\n",
       "    <tr>\n",
       "      <th>2010-01-04</th>\n",
       "      <td>133.899994</td>\n",
       "      <td>133.984001</td>\n",
       "      <td>141.460445</td>\n",
       "      <td>126.507556</td>\n",
       "    </tr>\n",
       "    <tr>\n",
       "      <th>2010-01-05</th>\n",
       "      <td>134.690002</td>\n",
       "      <td>133.839500</td>\n",
       "      <td>141.132776</td>\n",
       "      <td>126.546225</td>\n",
       "    </tr>\n",
       "    <tr>\n",
       "      <th>2010-01-06</th>\n",
       "      <td>132.250000</td>\n",
       "      <td>133.741500</td>\n",
       "      <td>141.066419</td>\n",
       "      <td>126.416581</td>\n",
       "    </tr>\n",
       "    <tr>\n",
       "      <th>2010-01-07</th>\n",
       "      <td>130.000000</td>\n",
       "      <td>133.536000</td>\n",
       "      <td>141.045671</td>\n",
       "      <td>126.026329</td>\n",
       "    </tr>\n",
       "    <tr>\n",
       "      <th>2010-01-08</th>\n",
       "      <td>133.520004</td>\n",
       "      <td>133.646500</td>\n",
       "      <td>141.082939</td>\n",
       "      <td>126.210062</td>\n",
       "    </tr>\n",
       "    <tr>\n",
       "      <th>...</th>\n",
       "      <td>...</td>\n",
       "      <td>...</td>\n",
       "      <td>...</td>\n",
       "      <td>...</td>\n",
       "    </tr>\n",
       "    <tr>\n",
       "      <th>2019-06-18</th>\n",
       "      <td>1901.369995</td>\n",
       "      <td>1821.456500</td>\n",
       "      <td>1935.384678</td>\n",
       "      <td>1707.528322</td>\n",
       "    </tr>\n",
       "    <tr>\n",
       "      <th>2019-06-19</th>\n",
       "      <td>1908.790039</td>\n",
       "      <td>1824.020001</td>\n",
       "      <td>1943.535145</td>\n",
       "      <td>1704.504858</td>\n",
       "    </tr>\n",
       "    <tr>\n",
       "      <th>2019-06-20</th>\n",
       "      <td>1918.189941</td>\n",
       "      <td>1826.945495</td>\n",
       "      <td>1952.830613</td>\n",
       "      <td>1701.060378</td>\n",
       "    </tr>\n",
       "    <tr>\n",
       "      <th>2019-06-21</th>\n",
       "      <td>1911.300049</td>\n",
       "      <td>1831.736499</td>\n",
       "      <td>1962.964470</td>\n",
       "      <td>1700.508528</td>\n",
       "    </tr>\n",
       "    <tr>\n",
       "      <th>2019-06-24</th>\n",
       "      <td>1907.953857</td>\n",
       "      <td>1835.970190</td>\n",
       "      <td>1971.444249</td>\n",
       "      <td>1700.496132</td>\n",
       "    </tr>\n",
       "  </tbody>\n",
       "</table>\n",
       "<p>2384 rows × 4 columns</p>\n",
       "</div>"
      ],
      "text/plain": [
       "              Adj Close       center           ub           lb\n",
       "Date                                                          \n",
       "2010-01-04   133.899994   133.984001   141.460445   126.507556\n",
       "2010-01-05   134.690002   133.839500   141.132776   126.546225\n",
       "2010-01-06   132.250000   133.741500   141.066419   126.416581\n",
       "2010-01-07   130.000000   133.536000   141.045671   126.026329\n",
       "2010-01-08   133.520004   133.646500   141.082939   126.210062\n",
       "...                 ...          ...          ...          ...\n",
       "2019-06-18  1901.369995  1821.456500  1935.384678  1707.528322\n",
       "2019-06-19  1908.790039  1824.020001  1943.535145  1704.504858\n",
       "2019-06-20  1918.189941  1826.945495  1952.830613  1701.060378\n",
       "2019-06-21  1911.300049  1831.736499  1962.964470  1700.508528\n",
       "2019-06-24  1907.953857  1835.970190  1971.444249  1700.496132\n",
       "\n",
       "[2384 rows x 4 columns]"
      ]
     },
     "execution_count": 88,
     "metadata": {},
     "output_type": "execute_result"
    }
   ],
   "source": [
    "create_band(df)"
   ]
  },
  {
   "cell_type": "code",
   "execution_count": 89,
   "metadata": {
    "scrolled": true
   },
   "outputs": [
    {
     "name": "stderr",
     "output_type": "stream",
     "text": [
      "C:\\Users\\hyungjun\\AppData\\Local\\Temp\\ipykernel_10756\\1706602896.py:30: SettingWithCopyWarning: \n",
      "A value is trying to be set on a copy of a slice from a DataFrame.\n",
      "Try using .loc[row_indexer,col_indexer] = value instead\n",
      "\n",
      "See the caveats in the documentation: https://pandas.pydata.org/pandas-docs/stable/user_guide/indexing.html#returning-a-view-versus-a-copy\n",
      "  result['center'] = result[_col].rolling(_cnt).mean()\n",
      "C:\\Users\\hyungjun\\AppData\\Local\\Temp\\ipykernel_10756\\1706602896.py:31: SettingWithCopyWarning: \n",
      "A value is trying to be set on a copy of a slice from a DataFrame.\n",
      "Try using .loc[row_indexer,col_indexer] = value instead\n",
      "\n",
      "See the caveats in the documentation: https://pandas.pydata.org/pandas-docs/stable/user_guide/indexing.html#returning-a-view-versus-a-copy\n",
      "  result['ub'] = result['center'] + (2 * result[_col].rolling(_cnt).std())\n",
      "C:\\Users\\hyungjun\\AppData\\Local\\Temp\\ipykernel_10756\\1706602896.py:32: SettingWithCopyWarning: \n",
      "A value is trying to be set on a copy of a slice from a DataFrame.\n",
      "Try using .loc[row_indexer,col_indexer] = value instead\n",
      "\n",
      "See the caveats in the documentation: https://pandas.pydata.org/pandas-docs/stable/user_guide/indexing.html#returning-a-view-versus-a-copy\n",
      "  result['lb'] = result['center'] - (2 * result[_col].rolling(_cnt).std())\n"
     ]
    }
   ],
   "source": [
    "band_df = create_band(df)"
   ]
  },
  {
   "cell_type": "code",
   "execution_count": null,
   "metadata": {},
   "outputs": [],
   "source": []
  },
  {
   "cell_type": "code",
   "execution_count": 90,
   "metadata": {},
   "outputs": [
    {
     "data": {
      "text/html": [
       "<div>\n",
       "<style scoped>\n",
       "    .dataframe tbody tr th:only-of-type {\n",
       "        vertical-align: middle;\n",
       "    }\n",
       "\n",
       "    .dataframe tbody tr th {\n",
       "        vertical-align: top;\n",
       "    }\n",
       "\n",
       "    .dataframe thead th {\n",
       "        text-align: right;\n",
       "    }\n",
       "</style>\n",
       "<table border=\"1\" class=\"dataframe\">\n",
       "  <thead>\n",
       "    <tr style=\"text-align: right;\">\n",
       "      <th></th>\n",
       "      <th>Adj Close</th>\n",
       "      <th>center</th>\n",
       "      <th>ub</th>\n",
       "      <th>lb</th>\n",
       "    </tr>\n",
       "    <tr>\n",
       "      <th>Date</th>\n",
       "      <th></th>\n",
       "      <th></th>\n",
       "      <th></th>\n",
       "      <th></th>\n",
       "    </tr>\n",
       "  </thead>\n",
       "  <tbody>\n",
       "    <tr>\n",
       "      <th>2010-01-04</th>\n",
       "      <td>133.899994</td>\n",
       "      <td>133.984001</td>\n",
       "      <td>141.460445</td>\n",
       "      <td>126.507556</td>\n",
       "    </tr>\n",
       "    <tr>\n",
       "      <th>2010-01-05</th>\n",
       "      <td>134.690002</td>\n",
       "      <td>133.839500</td>\n",
       "      <td>141.132776</td>\n",
       "      <td>126.546225</td>\n",
       "    </tr>\n",
       "    <tr>\n",
       "      <th>2010-01-06</th>\n",
       "      <td>132.250000</td>\n",
       "      <td>133.741500</td>\n",
       "      <td>141.066419</td>\n",
       "      <td>126.416581</td>\n",
       "    </tr>\n",
       "    <tr>\n",
       "      <th>2010-01-07</th>\n",
       "      <td>130.000000</td>\n",
       "      <td>133.536000</td>\n",
       "      <td>141.045671</td>\n",
       "      <td>126.026329</td>\n",
       "    </tr>\n",
       "    <tr>\n",
       "      <th>2010-01-08</th>\n",
       "      <td>133.520004</td>\n",
       "      <td>133.646500</td>\n",
       "      <td>141.082939</td>\n",
       "      <td>126.210062</td>\n",
       "    </tr>\n",
       "  </tbody>\n",
       "</table>\n",
       "</div>"
      ],
      "text/plain": [
       "             Adj Close      center          ub          lb\n",
       "Date                                                      \n",
       "2010-01-04  133.899994  133.984001  141.460445  126.507556\n",
       "2010-01-05  134.690002  133.839500  141.132776  126.546225\n",
       "2010-01-06  132.250000  133.741500  141.066419  126.416581\n",
       "2010-01-07  130.000000  133.536000  141.045671  126.026329\n",
       "2010-01-08  133.520004  133.646500  141.082939  126.210062"
      ]
     },
     "execution_count": 90,
     "metadata": {},
     "output_type": "execute_result"
    }
   ],
   "source": [
    "band_df.head()"
   ]
  },
  {
   "cell_type": "markdown",
   "metadata": {},
   "source": [
    "- 트레이드 컬럼을 생성하는 함수\n",
    "    - 매개변수 1개 : 1번 함수에서 생성된 df 인자 값으로 받아온다.\n",
    "    - trade 칼럼을 생성하여 값들은 \"\"대입\n",
    "    - 밴드들을 이용하여 보유 상태를 대입\n",
    "    - 결과값을 리턴"
   ]
  },
  {
   "cell_type": "code",
   "execution_count": 91,
   "metadata": {},
   "outputs": [],
   "source": [
    "def create_trade(_df) :\n",
    "    # 기준이 되는 컬럼의 이름 변수에 저장\n",
    "    col = _df.columns[0]\n",
    "    \n",
    "    df = _df.copy()\n",
    "    \n",
    "    # 거래 내역이라는 컬럼을 생성\n",
    "    df['trade'] = \"\"\n",
    "    \n",
    "    # 거래 내역 추가\n",
    "    for i in df.index :\n",
    "        # 상단밴드보다 기준이 되는 컬럼의 값이 높거나 같은 경우\n",
    "        if df.loc[i, col] >= df.loc[i, 'ub'] :\n",
    "            df.loc[i,'trade'] = \"\"\n",
    "        # 하단밴드보다 col의 값이 작거나 같은 경우\n",
    "        elif df.loc[i, col] <= df.loc[i, 'lb'] :\n",
    "            df.loc[i,'trade'] = 'buy'\n",
    "        # 밴드 사이의 col값이 존재하는 경우\n",
    "#         else :\n",
    "#             if df.shift().loc[i, 'trade'] == 'buy':\n",
    "#                 df.loc[i, 'trade'] = 'buy'\n",
    "#             else :\n",
    "#                 df.loc[i, 'trade'] = \"\"\n",
    "        else :\n",
    "            df.loc[i, 'trade'] = df.shift().loc[i,'trade']\n",
    "    return df"
   ]
  },
  {
   "cell_type": "code",
   "execution_count": 92,
   "metadata": {},
   "outputs": [],
   "source": [
    "trade_df = create_trade(band_df)"
   ]
  },
  {
   "cell_type": "code",
   "execution_count": 97,
   "metadata": {},
   "outputs": [
    {
     "data": {
      "text/plain": [
       "trade\n",
       "       1483\n",
       "buy     863\n",
       "Name: count, dtype: int64"
      ]
     },
     "execution_count": 97,
     "metadata": {},
     "output_type": "execute_result"
    }
   ],
   "source": [
    "trade_df['trade'].value_counts()"
   ]
  },
  {
   "cell_type": "markdown",
   "metadata": {},
   "source": [
    "- 수익률 계산 함수\n",
    "    - 매개변수 1개 -> 2번 함수에서 나온 결과를 인자값으로 받아온다.\n",
    "    - 수익률('rtn') 컬럼을 생성하여 데이터는 '1' 대입\n",
    "    - 구매한 날의 데이터와 판매한 날의 데이터를 기준으로 수익률을 계산하여 rtn에 대입\n",
    "    - 누적 수익률('acc_rtn')컬럼을 생성하여 수익률의 누적곱을 대입\n",
    "    - 결과는 데이터프레임과 총 누적수익률을 리턴"
   ]
  },
  {
   "cell_type": "code",
   "execution_count": 98,
   "metadata": {},
   "outputs": [],
   "source": [
    "def creat_rtn (_df) :\n",
    "    col = _df.colums[0]\n",
    "    \n",
    "    df = _df\n",
    "    \n",
    "    df['rtn'] = 1\n",
    "    \n",
    "    for i in df.index :\n",
    "        if (df.shift().loc[i, 'trade']== \"\") & (df.loc[i, 'trade'] == 'buy') :\n",
    "            buy = df.loc[i, col]\n",
    "            print(f\"매수일 : {i}, 매수가 : {buy}\")\n",
    "        \n",
    "        elif (df.shift().loc[i, 'trade'] == \"buy\") & (df.loc[i,'trade'] == \"\") :\n",
    "                  sell = df.loc[i, col]\n",
    "                  rtn = sell/buy\n",
    "                  print(f\"매도일 : {i}, 매도가 : {sell}, 수익률 : {rtn}\")\n",
    "                  df.loc[i, 'rtn'] = rtn\n",
    "                  \n",
    "    df['acc_rtn'] = df['rtn'].cumprod()\n",
    "    acc_rtn = df.iloc[-1,]['acc_rtn']\n",
    "    return df, acc_rtn"
   ]
  },
  {
   "cell_type": "code",
   "execution_count": null,
   "metadata": {},
   "outputs": [],
   "source": []
  }
 ],
 "metadata": {
  "kernelspec": {
   "display_name": "Python 3 (ipykernel)",
   "language": "python",
   "name": "python3"
  },
  "language_info": {
   "codemirror_mode": {
    "name": "ipython",
    "version": 3
   },
   "file_extension": ".py",
   "mimetype": "text/x-python",
   "name": "python",
   "nbconvert_exporter": "python",
   "pygments_lexer": "ipython3",
   "version": "3.11.5"
  }
 },
 "nbformat": 4,
 "nbformat_minor": 2
}
