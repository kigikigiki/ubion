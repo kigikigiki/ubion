{
 "cells": [
  {
   "cell_type": "code",
   "execution_count": 1,
   "metadata": {},
   "outputs": [
    {
     "name": "stdout",
     "output_type": "stream",
     "text": [
      "이름은kim입니다\n"
     ]
    }
   ],
   "source": [
    "### %s 가 무엇인가?\n",
    "### %f : 실수형 데이터\n",
    "### %d : 정수형 데이터\n",
    "### %s : 문자열 데이터\n",
    "### 문자와 변수를 결합시켜줄때 사용함.\n",
    "\n",
    "a = 'kim'\n",
    "print(\"이름은\" + a + \"입니다\") #이거 귀찮으니까 위꺼를 쓰는거다"
   ]
  },
  {
   "cell_type": "code",
   "execution_count": 2,
   "metadata": {},
   "outputs": [
    {
     "name": "stdout",
     "output_type": "stream",
     "text": [
      "이름은 kim입니다\n",
      "이름은 kim입니다\n",
      "이름은 kim입니다\n"
     ]
    }
   ],
   "source": [
    "# f-string 사용\n",
    "print(f'이름은 {a}입니다')\n",
    "# {}, format() 사용\n",
    "print('이름은 {}입니다'.format(a))\n",
    "# %s\n",
    "print('이름은 %s입니다'%(a))"
   ]
  },
  {
   "cell_type": "code",
   "execution_count": 3,
   "metadata": {},
   "outputs": [
    {
     "name": "stdout",
     "output_type": "stream",
     "text": [
      "이름은 kim이고 나이는 20입니다\n",
      "이름은 kim이고 나이는 20입니다.\n",
      "이름은 kim이고 나이는 20입니다\n",
      "이름은 kim이고 나이는 20입니다\n"
     ]
    }
   ],
   "source": [
    "name = 'kim'\n",
    "age = 20\n",
    "print(\"이름은 \"+ name + \"이고 나이는 \" + str(age) + \"입니다\")\n",
    "print(f\"이름은 {name}이고 나이는 {age}입니다.\")\n",
    "print(\"이름은 {}이고 나이는 {}입니다\".format(name, age))\n",
    "print(\"이름은 %s이고 나이는 %d입니다\"%(name, age))"
   ]
  },
  {
   "cell_type": "code",
   "execution_count": null,
   "metadata": {},
   "outputs": [],
   "source": []
  }
 ],
 "metadata": {
  "kernelspec": {
   "display_name": "base",
   "language": "python",
   "name": "python3"
  },
  "language_info": {
   "codemirror_mode": {
    "name": "ipython",
    "version": 3
   },
   "file_extension": ".py",
   "mimetype": "text/x-python",
   "name": "python",
   "nbconvert_exporter": "python",
   "pygments_lexer": "ipython3",
   "version": "3.11.5"
  }
 },
 "nbformat": 4,
 "nbformat_minor": 2
}
