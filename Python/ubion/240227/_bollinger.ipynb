{
 "cells": [
  {
   "cell_type": "markdown",
   "metadata": {},
   "source": [
    "#### 두개의 투자전략을 클래스로 선언\n",
    "1. 생성자 함수\n",
    "    - 클래스가 생성될 때 최초로 한 번만 실행이 되는 함수\n",
    "    - 객체 변수(self 변수)에 데이터프레임, 기준이 되는 컬럼명, 시작시간, 종료시간\n",
    "2. BuyandHold 함수\n",
    "    - 생성자 함수에서 만든 객체 변수를 이용하여 백태스팅\n",
    "    - 결과와 누적수익률을 return\n",
    "3. Bollinger 함수\n",
    "    - band 생성 함수\n",
    "        - ub, lb, center 생성\n",
    "    - 거래 내역 추가 함수\n",
    "        - 밴드를 기준으로 거래 내역을 생성\n",
    "    - 수익률 계산 함수\n",
    "        - 매도 시 수익을 발생하고 데이터프레임과 누적수익률을 return"
   ]
  },
  {
   "cell_type": "code",
   "execution_count": 1,
   "metadata": {},
   "outputs": [],
   "source": [
    "from datetime import datetime\n",
    "import pandas as pd\n",
    "import numpy as np"
   ]
  },
  {
   "cell_type": "code",
   "execution_count": null,
   "metadata": {},
   "outputs": [],
   "source": [
    "class Invest :\n",
    "    ## 생성자 함수\n",
    "    def __init__ (self, _df, _col='Adj Close', _start = '2010-01-01', _end = datetime.now()) :\n",
    "        # _df의 결측치, 무한대를 제외시킨다.\n",
    "        flag = _df.isin([np.nan, np.inf, -np.inf]).any(axis = 1)\n",
    "        self.df = _df.loc[~flag, ]\n",
    "        # 데이터프레임에서 컬럼에 Date가 포함되어 있는가?\n",
    "        if 'Date' in self.df.columns :\n",
    "            self.df.set_index(\"Date\", inplace = True)\n",
    "        # 인덱스를 시계열 데이터로 변경\n",
    "        self.df.index = pd.to_datetime(self.df.index, format=\"%Y-%m-%d\")\n",
    "        self.df = self.df[[_col]]\n",
    "        self.col = _col\n",
    "        try :\n",
    "            self.start = datetime.strptime(_start, '%Y-%m-%d')\n",
    "            if type(_end) == 'srt' :\n",
    "                self.end = datetime.strptime(_end, '%Y-%m-%d')\n",
    "            else :\n",
    "                self.end = _end\n",
    "        except:\n",
    "            print(\"TypeError : (YYYY-MM-DD)\")\n",
    "    ## buyandhold 함수를 생성\n",
    "\n",
    "    #def buyandhold(self):\n",
    "        # "
   ]
  }
 ],
 "metadata": {
  "kernelspec": {
   "display_name": "base",
   "language": "python",
   "name": "python3"
  },
  "language_info": {
   "codemirror_mode": {
    "name": "ipython",
    "version": 3
   },
   "file_extension": ".py",
   "mimetype": "text/x-python",
   "name": "python",
   "nbconvert_exporter": "python",
   "pygments_lexer": "ipython3",
   "version": "3.11.5"
  }
 },
 "nbformat": 4,
 "nbformat_minor": 2
}
