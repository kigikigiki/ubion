{
 "cells": [
  {
   "cell_type": "code",
   "execution_count": 4,
   "metadata": {},
   "outputs": [],
   "source": [
    "from selenium import webdriver\n",
    "from selenium.webdriver.common.by import By\n",
    "from selenium.webdriver.common.keys import Keys\n",
    "from bs4 import BeautifulSoup as bs\n",
    "import requests\n",
    "import pandas as pd"
   ]
  },
  {
   "cell_type": "code",
   "execution_count": 5,
   "metadata": {},
   "outputs": [],
   "source": [
    "driver = webdriver.Chrome()\n",
    "driver.get('https://www.naver.com')\n",
    "element = driver.find_element(By.ID, 'query')"
   ]
  },
  {
   "cell_type": "code",
   "execution_count": 6,
   "metadata": {},
   "outputs": [],
   "source": [
    "element.send_keys(\"야후파이낸스\")\n",
    "element.send_keys(Keys.ENTER)"
   ]
  },
  {
   "cell_type": "code",
   "execution_count": 7,
   "metadata": {},
   "outputs": [],
   "source": [
    "# element class가 link_name인 태그를 선택\n",
    "element2 = driver.find_element(By.CLASS_NAME, 'link_name')\n",
    "element2.click()"
   ]
  },
  {
   "cell_type": "code",
   "execution_count": 11,
   "metadata": {},
   "outputs": [
    {
     "data": {
      "text/plain": [
       "['DEA951FE6B4D9E33B94B049570566043', 'D08BA6D298D1795988354D6B7DE242C9']"
      ]
     },
     "execution_count": 11,
     "metadata": {},
     "output_type": "execute_result"
    }
   ],
   "source": [
    "driver.window_handles"
   ]
  },
  {
   "cell_type": "code",
   "execution_count": 12,
   "metadata": {},
   "outputs": [],
   "source": [
    "driver.switch_to.window(driver.window_handles[1])"
   ]
  },
  {
   "cell_type": "code",
   "execution_count": 14,
   "metadata": {},
   "outputs": [],
   "source": [
    "element3 = driver.find_element(By.XPATH, '//*[@id=\"Nav-0-DesktopNav-0-DesktopNav\"]/div/div[3]/div/nav/ul/li[3]/a')"
   ]
  },
  {
   "cell_type": "code",
   "execution_count": 15,
   "metadata": {},
   "outputs": [],
   "source": [
    "element3.click()"
   ]
  },
  {
   "cell_type": "code",
   "execution_count": 16,
   "metadata": {},
   "outputs": [],
   "source": [
    "element4 = driver.find_element(By.XPATH, '//*[@id=\"SecondaryNav-0-SecondaryNav-Proxy\"]/div/ul/li[3]/a')\n",
    "element4.click()"
   ]
  },
  {
   "cell_type": "code",
   "execution_count": 20,
   "metadata": {},
   "outputs": [
    {
     "data": {
      "text/plain": [
       "1"
      ]
     },
     "execution_count": 20,
     "metadata": {},
     "output_type": "execute_result"
    }
   ],
   "source": [
    "soup = bs(driver.page_source, 'html.parser')\n",
    "len(soup.find_all('table'))"
   ]
  },
  {
   "cell_type": "code",
   "execution_count": 21,
   "metadata": {},
   "outputs": [],
   "source": [
    "table_data = soup.find('table')"
   ]
  },
  {
   "cell_type": "code",
   "execution_count": 22,
   "metadata": {},
   "outputs": [],
   "source": [
    "## 컬럼에 들어갈 데이터를 추출\n",
    "## table 태그에서 thead 태그의 정보들을 추출\n",
    "## th마다 컬럼의 이름들이 하나씩 있음\n",
    "thead_data = table_data.find(\"thead\")"
   ]
  },
  {
   "cell_type": "code",
   "execution_count": 24,
   "metadata": {},
   "outputs": [],
   "source": [
    "th_list = thead_data.find_all(\"th\")"
   ]
  },
  {
   "cell_type": "code",
   "execution_count": 28,
   "metadata": {},
   "outputs": [
    {
     "data": {
      "text/plain": [
       "['Symbol',\n",
       " 'Name',\n",
       " 'Last Price',\n",
       " 'Market Time',\n",
       " 'Change',\n",
       " '% Change',\n",
       " 'Volume',\n",
       " 'Market Cap',\n",
       " 'Intraday High/Low',\n",
       " '52 Week Range',\n",
       " 'Day Chart']"
      ]
     },
     "execution_count": 28,
     "metadata": {},
     "output_type": "execute_result"
    }
   ],
   "source": [
    "_cols = []\n",
    "for col in th_list :\n",
    "    #print(col.get_text())\n",
    "    _cols.append(col.get_text())\n",
    "_cols"
   ]
  },
  {
   "cell_type": "code",
   "execution_count": 31,
   "metadata": {},
   "outputs": [],
   "source": [
    "## tbody의 데이터 추출\n",
    "tbody_data = table_data.find('tbody')"
   ]
  },
  {
   "cell_type": "code",
   "execution_count": 32,
   "metadata": {},
   "outputs": [],
   "source": [
    "tr_list = tbody_data.find_all('tr')"
   ]
  },
  {
   "cell_type": "code",
   "execution_count": 33,
   "metadata": {},
   "outputs": [],
   "source": [
    "td_list = tr_list[0].find_all('td')"
   ]
  },
  {
   "cell_type": "code",
   "execution_count": 35,
   "metadata": {},
   "outputs": [
    {
     "data": {
      "text/plain": [
       "'SQ'"
      ]
     },
     "execution_count": 35,
     "metadata": {},
     "output_type": "execute_result"
    }
   ],
   "source": [
    "td_list[0].get_text()"
   ]
  },
  {
   "cell_type": "code",
   "execution_count": 38,
   "metadata": {},
   "outputs": [
    {
     "data": {
      "text/plain": [
       "['SQ',\n",
       " 'Block, Inc.',\n",
       " '67.96',\n",
       " '4:00PM EST',\n",
       " '+3.49',\n",
       " '+5.41%',\n",
       " '18.789M',\n",
       " '41.734B',\n",
       " '',\n",
       " '',\n",
       " '']"
      ]
     },
     "execution_count": 38,
     "metadata": {},
     "output_type": "execute_result"
    }
   ],
   "source": [
    "td_data = []\n",
    "for td in td_list :\n",
    "    #print(td)\n",
    "    #print(td.get_text())\n",
    "    td_data.append(td.get_text())\n",
    "td_data"
   ]
  },
  {
   "cell_type": "code",
   "execution_count": 40,
   "metadata": {},
   "outputs": [
    {
     "data": {
      "text/plain": [
       "[['SQ',\n",
       "  'Block, Inc.',\n",
       "  '67.96',\n",
       "  '4:00PM EST',\n",
       "  '+3.49',\n",
       "  '+5.41%',\n",
       "  '18.789M',\n",
       "  '41.734B',\n",
       "  '',\n",
       "  '',\n",
       "  ''],\n",
       " ['LUNR',\n",
       "  'Intuitive Machines, Inc.',\n",
       "  '8.28',\n",
       "  '4:00PM EST',\n",
       "  '-1.04',\n",
       "  '-11.16%',\n",
       "  '26.363M',\n",
       "  '241.966M',\n",
       "  '',\n",
       "  '',\n",
       "  ''],\n",
       " ['CVNA',\n",
       "  'Carvana Co.',\n",
       "  '52.41',\n",
       "  '4:00PM EST',\n",
       "  '+3.01',\n",
       "  '+6.09%',\n",
       "  '11.689M',\n",
       "  '9.308B',\n",
       "  '',\n",
       "  '',\n",
       "  ''],\n",
       " ['MELI',\n",
       "  'MercadoLibre, Inc.',\n",
       "  '1,817.98',\n",
       "  '4:00PM EST',\n",
       "  '+80.21',\n",
       "  '+4.62%',\n",
       "  '641,027',\n",
       "  '91.916B',\n",
       "  '',\n",
       "  '',\n",
       "  ''],\n",
       " ['BKNG',\n",
       "  'Booking Holdings Inc.',\n",
       "  '3,901.99',\n",
       "  '4:00PM EST',\n",
       "  '+160.86',\n",
       "  '+4.30%',\n",
       "  '436,129',\n",
       "  '136.14B',\n",
       "  '',\n",
       "  '',\n",
       "  ''],\n",
       " ['INTU',\n",
       "  'Intuit Inc.',\n",
       "  '657.92',\n",
       "  '4:00PM EST',\n",
       "  '+19.65',\n",
       "  '+3.08%',\n",
       "  '1.904M',\n",
       "  '184.175B',\n",
       "  '',\n",
       "  '',\n",
       "  ''],\n",
       " ['T',\n",
       "  'AT&T Inc.',\n",
       "  '16.59',\n",
       "  '4:02PM EST',\n",
       "  '-0.41',\n",
       "  '-2.41%',\n",
       "  '59.707M',\n",
       "  '118.619B',\n",
       "  '',\n",
       "  '',\n",
       "  ''],\n",
       " ['MRNA',\n",
       "  'Moderna, Inc.',\n",
       "  '99.44',\n",
       "  '4:00PM EST',\n",
       "  '+11.85',\n",
       "  '+13.53%',\n",
       "  '11.334M',\n",
       "  '37.915B',\n",
       "  '',\n",
       "  '',\n",
       "  ''],\n",
       " ['NU',\n",
       "  'Nu Holdings Ltd.',\n",
       "  '10.36',\n",
       "  '4:00PM EST',\n",
       "  '+0.27',\n",
       "  '+2.68%',\n",
       "  '41.439M',\n",
       "  '49.261B',\n",
       "  '',\n",
       "  '',\n",
       "  ''],\n",
       " ['NVAX',\n",
       "  'Novavax, Inc.',\n",
       "  '4.8800',\n",
       "  '4:00PM EST',\n",
       "  '+0.9000',\n",
       "  '+22.61%',\n",
       "  '41.386M',\n",
       "  '579.695M',\n",
       "  '',\n",
       "  '',\n",
       "  ''],\n",
       " ['JPM',\n",
       "  'JPMorgan Chase & Co.',\n",
       "  '183.07',\n",
       "  '4:00PM EST',\n",
       "  '+2.17',\n",
       "  '+1.20%',\n",
       "  '8.955M',\n",
       "  '527.309B',\n",
       "  '',\n",
       "  '',\n",
       "  ''],\n",
       " ['^DJI',\n",
       "  'Dow Jones Industrial Average',\n",
       "  '39,069.11',\n",
       "  '5:06PM EST',\n",
       "  '+456.87',\n",
       "  '+1.18%',\n",
       "  '330.537M',\n",
       "  'N/A',\n",
       "  '',\n",
       "  '',\n",
       "  ''],\n",
       " ['AAOI',\n",
       "  'Applied Optoelectronics, Inc.',\n",
       "  '20.35',\n",
       "  '4:00PM EST',\n",
       "  '+1.16',\n",
       "  '+6.04%',\n",
       "  '5.021M',\n",
       "  '770.899M',\n",
       "  '',\n",
       "  '',\n",
       "  ''],\n",
       " ['^IXIC',\n",
       "  'NASDAQ Composite',\n",
       "  '16,041.62',\n",
       "  '5:15PM EST',\n",
       "  '+460.72',\n",
       "  '+2.96%',\n",
       "  '5.068B',\n",
       "  'N/A',\n",
       "  '',\n",
       "  '',\n",
       "  ''],\n",
       " ['ARDX',\n",
       "  'Ardelyx, Inc.',\n",
       "  '8.82',\n",
       "  '4:00PM EST',\n",
       "  '+0.32',\n",
       "  '+3.76%',\n",
       "  '8.626M',\n",
       "  '2.047B',\n",
       "  '',\n",
       "  '',\n",
       "  ''],\n",
       " ['TBIO',\n",
       "  'Telesis Bio, Inc.',\n",
       "  '0.4581',\n",
       "  '3:59PM EST',\n",
       "  '+0.1034',\n",
       "  '+29.15%',\n",
       "  '10.737M',\n",
       "  '13.719M',\n",
       "  '',\n",
       "  '',\n",
       "  ''],\n",
       " ['LUNRW',\n",
       "  'Intuitive Machines, Inc.',\n",
       "  '2.1900',\n",
       "  '3:59PM EST',\n",
       "  '-0.2600',\n",
       "  '-10.61%',\n",
       "  '2.64M',\n",
       "  'N/A',\n",
       "  '',\n",
       "  '',\n",
       "  ''],\n",
       " ['NEM',\n",
       "  'Newmont Corporation',\n",
       "  '30.89',\n",
       "  '4:00PM EST',\n",
       "  '-2.54',\n",
       "  '-7.60%',\n",
       "  '30.476M',\n",
       "  '35.6B',\n",
       "  '',\n",
       "  '',\n",
       "  ''],\n",
       " ['LYV',\n",
       "  'Live Nation Entertainment, Inc.',\n",
       "  '93.49',\n",
       "  '4:00PM EST',\n",
       "  '+2.29',\n",
       "  '+2.51%',\n",
       "  '3.173M',\n",
       "  '21.533B',\n",
       "  '',\n",
       "  '',\n",
       "  ''],\n",
       " ['WING',\n",
       "  'Wingstop Inc.',\n",
       "  '334.05',\n",
       "  '4:00PM EST',\n",
       "  '+23.73',\n",
       "  '+7.65%',\n",
       "  '1.058M',\n",
       "  '9.8B',\n",
       "  '',\n",
       "  '',\n",
       "  ''],\n",
       " ['ICU',\n",
       "  'SeaStar Medical Holding Corporation',\n",
       "  '1.1100',\n",
       "  '4:00PM EST',\n",
       "  '-0.3400',\n",
       "  '-23.45%',\n",
       "  '37.383M',\n",
       "  '72.315M',\n",
       "  '',\n",
       "  '',\n",
       "  ''],\n",
       " ['GRAB',\n",
       "  'Grab Holdings Limited',\n",
       "  '3.1600',\n",
       "  '4:00PM EST',\n",
       "  '-0.2900',\n",
       "  '-8.41%',\n",
       "  '73.181M',\n",
       "  '12.362B',\n",
       "  '',\n",
       "  '',\n",
       "  ''],\n",
       " ['^GSPC',\n",
       "  'S&P 500',\n",
       "  '5,087.03',\n",
       "  '5:06PM EST',\n",
       "  '+105.23',\n",
       "  '+2.11%',\n",
       "  '2.575B',\n",
       "  'N/A',\n",
       "  '',\n",
       "  '',\n",
       "  ''],\n",
       " ['MNPR',\n",
       "  'Monopar Therapeutics Inc.',\n",
       "  '1.1200',\n",
       "  '4:00PM EST',\n",
       "  '+0.5500',\n",
       "  '+96.49%',\n",
       "  '151.322M',\n",
       "  '16.65M',\n",
       "  '',\n",
       "  '',\n",
       "  ''],\n",
       " ['RKT',\n",
       "  'Rocket Companies, Inc.',\n",
       "  '10.98',\n",
       "  '4:00PM EST',\n",
       "  '-0.02',\n",
       "  '-0.18%',\n",
       "  '3.029M',\n",
       "  '21.821B',\n",
       "  '',\n",
       "  '',\n",
       "  ''],\n",
       " ['BLDR',\n",
       "  'Builders FirstSource, Inc.',\n",
       "  '188.37',\n",
       "  '4:00PM EST',\n",
       "  '+4.71',\n",
       "  '+2.56%',\n",
       "  '2.114M',\n",
       "  '23.235B',\n",
       "  '',\n",
       "  '',\n",
       "  ''],\n",
       " ['INDI',\n",
       "  'indie Semiconductor, Inc.',\n",
       "  '6.89',\n",
       "  '4:00PM EST',\n",
       "  '-0.17',\n",
       "  '-2.41%',\n",
       "  '3.997M',\n",
       "  '1.116B',\n",
       "  '',\n",
       "  '',\n",
       "  ''],\n",
       " ['OLED',\n",
       "  'Universal Display Corporation',\n",
       "  '187.14',\n",
       "  '4:00PM EST',\n",
       "  '+3.39',\n",
       "  '+1.84%',\n",
       "  '475,395',\n",
       "  '8.863B',\n",
       "  '',\n",
       "  '',\n",
       "  ''],\n",
       " ['VFIAX',\n",
       "  'Vanguard 500 Index Admiral',\n",
       "  '470.20',\n",
       "  '8:01PM EST',\n",
       "  '+9.75',\n",
       "  '+2.12%',\n",
       "  'N/A',\n",
       "  'N/A',\n",
       "  '',\n",
       "  '',\n",
       "  ''],\n",
       " ['PYPL',\n",
       "  'PayPal Holdings, Inc.',\n",
       "  '58.35',\n",
       "  '4:00PM EST',\n",
       "  '+0.87',\n",
       "  '+1.51%',\n",
       "  '17.147M',\n",
       "  '62.536B',\n",
       "  '',\n",
       "  '',\n",
       "  '']]"
      ]
     },
     "execution_count": 40,
     "metadata": {},
     "output_type": "execute_result"
    }
   ],
   "source": [
    "_values = []\n",
    "for tr in tr_list:\n",
    "    td_list = tr.find_all('td')\n",
    "    td_data = []\n",
    "    for td in td_list :\n",
    "        td_data.append(td.get_text())\n",
    "    _values.append(td_data)\n",
    "\n",
    "_values"
   ]
  },
  {
   "cell_type": "code",
   "execution_count": 42,
   "metadata": {},
   "outputs": [],
   "source": [
    "df = pd.DataFrame(_values, columns = _cols)\n",
    "df.to_csv('yfinance_data.csv')"
   ]
  },
  {
   "cell_type": "code",
   "execution_count": null,
   "metadata": {},
   "outputs": [],
   "source": [
    "driver.quit()"
   ]
  }
 ],
 "metadata": {
  "kernelspec": {
   "display_name": "base",
   "language": "python",
   "name": "python3"
  },
  "language_info": {
   "codemirror_mode": {
    "name": "ipython",
    "version": 3
   },
   "file_extension": ".py",
   "mimetype": "text/x-python",
   "name": "python",
   "nbconvert_exporter": "python",
   "pygments_lexer": "ipython3",
   "version": "3.11.5"
  }
 },
 "nbformat": 4,
 "nbformat_minor": 2
}
