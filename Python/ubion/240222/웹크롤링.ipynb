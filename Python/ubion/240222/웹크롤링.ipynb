{
 "cells": [
  {
   "cell_type": "markdown",
   "id": "79847b35",
   "metadata": {},
   "source": [
    "### 웹 크롤링\n",
    "1. 사용할 라이브러리 목록\n",
    "    - requests\n",
    "    - bs4 (BeautifulSoup)\n",
    "        - bs4 라이브러리 안에 있는 BeautifulSoup class\n",
    "        - html 문서형 데이터를 pasing 하여 데이터를 쉽게 추출할 수 있도록 도와주는 라이브러리\n",
    "        - html에서 TAG를 기준으로 데이터를 추출\n",
    "        - 웹의 구조를 어느정도 인지하고 사용한다면 쉽게 사용 가능\n",
    "        - Parser를 활용해서 파이썬에서 접근이 쉽게 객체 형태로 제공\n",
    "    - selenium\n",
    "        - 웹 어플리케이션을 테스트하기 위해 만들어진 라이브러리\n",
    "        - 웹 브라우져를 python의 code를 이용하여 제어\n",
    "        - 크롬이 구버전이거나 selenium이 구버전인 경우에는 별도의 소프트웨어를 설치"
   ]
  },
  {
   "cell_type": "code",
   "execution_count": null,
   "id": "6bb1c299",
   "metadata": {},
   "outputs": [],
   "source": [
    "import requests\n",
    "from bs4 import BeautifulSoup as bs\n",
    "import pandas as pd"
   ]
  },
  {
   "cell_type": "code",
   "execution_count": null,
   "id": "2dcb57c3",
   "metadata": {},
   "outputs": [],
   "source": [
    "url = \"https://www.naver.com\"\n",
    "response = requests.get(url)\n",
    "\n",
    "html_data = response.text\n",
    "html_data[378:381]"
   ]
  },
  {
   "cell_type": "code",
   "execution_count": null,
   "id": "497be856",
   "metadata": {},
   "outputs": [],
   "source": [
    "html_data.find('네이버')"
   ]
  },
  {
   "cell_type": "code",
   "execution_count": null,
   "id": "113c3f2c",
   "metadata": {},
   "outputs": [],
   "source": [
    "## pasing 작업 : 데이터의 형태를 변환 (새로운 class에 인자값을 댕비하여 새로운 객체를 생성)\n",
    "soup = bs(html_data, 'html.parser')"
   ]
  },
  {
   "cell_type": "markdown",
   "id": "dc2ec3c4",
   "metadata": {},
   "source": [
    "- 태그의 이름을 기준으로 검색\n",
    "    - soup.태그명 : HTML 문서에서 해당 태그명의 첫번째 정보를 출력\n",
    "    - soup.태그명.string : 첫번째 태그 정보에서 문자열이 출력\n",
    "    - soup.태그명.['속성명'] : 첫번째 태그 정보에서 속성의 값이 출력"
   ]
  },
  {
   "cell_type": "code",
   "execution_count": null,
   "id": "5674a5f5",
   "metadata": {},
   "outputs": [],
   "source": [
    "# 네이버에서 a태그(하이퍼링크) 중 첫번째 태그를 확인\n",
    "soup.a"
   ]
  },
  {
   "cell_type": "code",
   "execution_count": null,
   "id": "17a42447",
   "metadata": {},
   "outputs": [],
   "source": [
    "soup.a.string"
   ]
  },
  {
   "cell_type": "code",
   "execution_count": null,
   "id": "84c31866",
   "metadata": {},
   "outputs": [],
   "source": [
    "soup.a['href']"
   ]
  },
  {
   "cell_type": "markdown",
   "id": "06c8d532",
   "metadata": {},
   "source": [
    "- find({태그명})\n",
    "    - HTML 문자열에서 해당 태그의 첫번째 정보를 출력\n",
    "    - find(속성명 = 속성값) : 태그들 중에 해당 속성을 가지고 있는 태그의 첫번째 정보를 출력\n",
    "- find_all({태그명})\n",
    "    - HTML 문자열에서 해당 태그의 모든 태그 정보를 리스트의 형태로 출력\n",
    "    - limit 매개변수 : 리스트의 개수를 지정 "
   ]
  },
  {
   "cell_type": "code",
   "execution_count": null,
   "id": "2d265965",
   "metadata": {},
   "outputs": [],
   "source": [
    "frist_a = soup.find('a')"
   ]
  },
  {
   "cell_type": "code",
   "execution_count": null,
   "id": "97c7a0e1",
   "metadata": {},
   "outputs": [],
   "source": [
    "type(frist_a)"
   ]
  },
  {
   "cell_type": "code",
   "execution_count": null,
   "id": "e7db9d2e",
   "metadata": {},
   "outputs": [],
   "source": [
    "a_list = soup.find_all(\"a\")"
   ]
  },
  {
   "cell_type": "code",
   "execution_count": null,
   "id": "598a404a",
   "metadata": {},
   "outputs": [],
   "source": [
    "type(a_list)"
   ]
  },
  {
   "cell_type": "code",
   "execution_count": null,
   "id": "ed9fd659",
   "metadata": {},
   "outputs": [],
   "source": [
    "print(frist_a)\n",
    "print(a_list)"
   ]
  },
  {
   "cell_type": "code",
   "execution_count": null,
   "id": "4dbab3b2",
   "metadata": {},
   "outputs": [],
   "source": [
    "frist_a.get_text()"
   ]
  },
  {
   "cell_type": "code",
   "execution_count": null,
   "id": "2f73daf6",
   "metadata": {
    "scrolled": true
   },
   "outputs": [],
   "source": [
    "data_list = []\n",
    "for i in a_list :\n",
    "    data_list.append(i.get_text())\n",
    "data_list"
   ]
  },
  {
   "cell_type": "code",
   "execution_count": null,
   "id": "e8e1dbbb",
   "metadata": {},
   "outputs": [],
   "source": [
    "## 네이버 파이낸스 페이지에서 데이터를 크롤링\n",
    "url = \"https://finance.naver.com/\"\n",
    "response = requests.get(url)"
   ]
  },
  {
   "cell_type": "code",
   "execution_count": null,
   "id": "f5eac740",
   "metadata": {},
   "outputs": [],
   "source": [
    "response"
   ]
  },
  {
   "cell_type": "code",
   "execution_count": null,
   "id": "740a4ccf",
   "metadata": {},
   "outputs": [],
   "source": [
    "html_data = response.text"
   ]
  },
  {
   "cell_type": "code",
   "execution_count": null,
   "id": "e4502ef2",
   "metadata": {},
   "outputs": [],
   "source": [
    "# Beautifulsoup의 데이터 형으로 파싱\n",
    "soup = bs(html_data, 'html.parser')"
   ]
  },
  {
   "cell_type": "code",
   "execution_count": null,
   "id": "f14215c6",
   "metadata": {},
   "outputs": [],
   "source": [
    "## soup에서 table 태그들 중 class 값이 tbl_home 태그를 선택\n",
    "len(soup.find_all('table', attrs={\n",
    "    'class' : 'tbl_home'\n",
    "}))"
   ]
  },
  {
   "cell_type": "code",
   "execution_count": null,
   "id": "3d0189b8",
   "metadata": {},
   "outputs": [],
   "source": [
    "div_data = soup.find('div', attrs={\n",
    "    'class' : 'section_sise_top'\n",
    "})"
   ]
  },
  {
   "cell_type": "code",
   "execution_count": null,
   "id": "fb8bf1a2",
   "metadata": {},
   "outputs": [],
   "source": [
    "div_data"
   ]
  },
  {
   "cell_type": "code",
   "execution_count": null,
   "id": "32a5c3ee",
   "metadata": {
    "scrolled": true
   },
   "outputs": [],
   "source": [
    "tables = div_data.find_all('table', attrs={\n",
    "    'class' : 'tbl_home'\n",
    "})"
   ]
  },
  {
   "cell_type": "code",
   "execution_count": null,
   "id": "dd67bf83",
   "metadata": {},
   "outputs": [],
   "source": [
    "tr_list = trade_top.find_all('tr')"
   ]
  },
  {
   "cell_type": "code",
   "execution_count": null,
   "id": "214304ff",
   "metadata": {},
   "outputs": [],
   "source": [
    "trade_top = tables[0]"
   ]
  },
  {
   "cell_type": "code",
   "execution_count": null,
   "id": "aac4f1ae",
   "metadata": {
    "scrolled": true
   },
   "outputs": [],
   "source": [
    "th_list = tables[0].find('tr').find_all('th')\n",
    "\n",
    "_cols = []\n",
    "\n",
    "for i in th_list :\n",
    "    _cols.append(i.get_text())\n",
    "_cols"
   ]
  },
  {
   "cell_type": "code",
   "execution_count": null,
   "id": "3154f63f",
   "metadata": {},
   "outputs": [],
   "source": [
    "trade_top = tables[0]"
   ]
  },
  {
   "cell_type": "code",
   "execution_count": null,
   "id": "a114d9d5",
   "metadata": {},
   "outputs": [],
   "source": [
    "tr_list[1].get_text().split()"
   ]
  },
  {
   "cell_type": "code",
   "execution_count": null,
   "id": "956f2244",
   "metadata": {},
   "outputs": [],
   "source": [
    "_val = [tr_list[1].find('th').get_text()]\n",
    "\n",
    "td_list = tr_list[1].find_all(\"td\")\n",
    "for i in td_list :\n",
    "    data = i.get_text().strip()\n",
    "    _val.append(data)\n",
    "    \n",
    "_val"
   ]
  },
  {
   "cell_type": "code",
   "execution_count": null,
   "id": "699ea107",
   "metadata": {},
   "outputs": [],
   "source": [
    "_values = []\n",
    "for i in range(1, len(tr_list)) :\n",
    "    _val = [tr_list[i].find('th').get_text()]\n",
    "    \n",
    "    td_list = tr_list[i].find_all('td')\n",
    "    \n",
    "    for j in td_list :\n",
    "        data = j.get_text().strip()\n",
    "        _val.append(data)\n",
    "        \n",
    "    _values.append(_val)\n",
    "    \n",
    "_values"
   ]
  },
  {
   "cell_type": "code",
   "execution_count": null,
   "id": "d85841c9",
   "metadata": {},
   "outputs": [],
   "source": [
    "df = pd.DataFrame(_values)\n",
    "df.columns = _cols\n",
    "df"
   ]
  },
  {
   "cell_type": "code",
   "execution_count": null,
   "id": "0599cc97",
   "metadata": {},
   "outputs": [],
   "source": [
    "# 현재의 시간을 가지고 오자\n",
    "from datetime import datetime"
   ]
  },
  {
   "cell_type": "code",
   "execution_count": null,
   "id": "ff52ea57",
   "metadata": {},
   "outputs": [],
   "source": [
    "now = datetime.now()"
   ]
  },
  {
   "cell_type": "code",
   "execution_count": null,
   "id": "3599575f",
   "metadata": {},
   "outputs": [],
   "source": [
    "date = now.strftime(\"%y-%m-%d %H-%M-%S\")"
   ]
  },
  {
   "cell_type": "code",
   "execution_count": null,
   "id": "20fd0fa7",
   "metadata": {},
   "outputs": [],
   "source": [
    "for index in range(len(tables)) :\n",
    "    th_list = tables[index].find('tr').find_all('th')\n",
    "    now = datetime.now()\n",
    "    date = now.strftime(\"%y-%m-%d %H-%M-%S\")\n",
    "    th_list = tables[index].find('tr').find_all('th')\n",
    "    _cols = []\n",
    "    for i in th_list:\n",
    "        _cols.append(i.get_text())\n",
    "    #print(_cols)\n",
    "    tr_list = tables[index].find_all('tr')\n",
    "    _values = []\n",
    "    for i in range(1, len(tr_list)) :\n",
    "        _val = [tr_list[i].find('th').get_text()]\n",
    "\n",
    "        td_list = tr_list[i].find_all('td')\n",
    "\n",
    "        for j in td_list :\n",
    "            data = j.get_text().strip()\n",
    "            _val.append(data)\n",
    "\n",
    "        _values.append(_val)\n",
    "\n",
    "    #print(_values)\n",
    "    # 반복 실행 할 때마다 다른 변수에 데이터를 저장\n",
    "    file_list = ['거래상위', '상승', '하락', '시가총액']\n",
    "    globals()[f\"df_{index}\"] = pd.DataFrame(_values, columns = _cols)\n",
    "    pd.DataFrame(_values, columns = _cols).to_csv(f\"{file_list[index]}_{date}.csv\")"
   ]
  },
  {
   "cell_type": "code",
   "execution_count": null,
   "id": "1ca693f1",
   "metadata": {},
   "outputs": [],
   "source": [
    "globals()['__name__']"
   ]
  },
  {
   "cell_type": "code",
   "execution_count": null,
   "id": "d59b579f",
   "metadata": {
    "scrolled": false
   },
   "outputs": [],
   "source": [
    "df_0"
   ]
  },
  {
   "cell_type": "code",
   "execution_count": null,
   "id": "d5a7f644",
   "metadata": {
    "scrolled": true
   },
   "outputs": [],
   "source": [
    "df_3.sort_values(\"등락률\", ascending=False)"
   ]
  },
  {
   "cell_type": "code",
   "execution_count": null,
   "id": "24992df5",
   "metadata": {},
   "outputs": [],
   "source": [
    "df1 = df_3.copy()"
   ]
  },
  {
   "cell_type": "code",
   "execution_count": null,
   "id": "2f807164",
   "metadata": {},
   "outputs": [],
   "source": [
    "# df1의 등락률데이터를 숫자로 변경\n",
    "# % 문자열 삭제\n",
    "\n",
    "df1['등락률'][0].replace(\"%\",'')\n",
    "df1['등락률'] = df1['등락률'].str.strip(\"%\").astype(\"float\")"
   ]
  },
  {
   "cell_type": "code",
   "execution_count": 278,
   "id": "a58ed380",
   "metadata": {},
   "outputs": [
    {
     "data": {
      "text/html": [
       "<div>\n",
       "<style scoped>\n",
       "    .dataframe tbody tr th:only-of-type {\n",
       "        vertical-align: middle;\n",
       "    }\n",
       "\n",
       "    .dataframe tbody tr th {\n",
       "        vertical-align: top;\n",
       "    }\n",
       "\n",
       "    .dataframe thead th {\n",
       "        text-align: right;\n",
       "    }\n",
       "</style>\n",
       "<table border=\"1\" class=\"dataframe\">\n",
       "  <thead>\n",
       "    <tr style=\"text-align: right;\">\n",
       "      <th></th>\n",
       "      <th>종목명</th>\n",
       "      <th>현재가</th>\n",
       "      <th>전일대비</th>\n",
       "      <th>등락률</th>\n",
       "    </tr>\n",
       "  </thead>\n",
       "  <tbody>\n",
       "    <tr>\n",
       "      <th>1</th>\n",
       "      <td>SK하이닉스</td>\n",
       "      <td>155,400</td>\n",
       "      <td>상승 6,400</td>\n",
       "      <td>4.30</td>\n",
       "    </tr>\n",
       "    <tr>\n",
       "      <th>6</th>\n",
       "      <td>기아</td>\n",
       "      <td>119,800</td>\n",
       "      <td>상승 3,000</td>\n",
       "      <td>2.57</td>\n",
       "    </tr>\n",
       "    <tr>\n",
       "      <th>11</th>\n",
       "      <td>삼성물산</td>\n",
       "      <td>165,400</td>\n",
       "      <td>상승 4,100</td>\n",
       "      <td>2.54</td>\n",
       "    </tr>\n",
       "    <tr>\n",
       "      <th>5</th>\n",
       "      <td>현대차</td>\n",
       "      <td>244,000</td>\n",
       "      <td>상승 4,500</td>\n",
       "      <td>1.88</td>\n",
       "    </tr>\n",
       "    <tr>\n",
       "      <th>2</th>\n",
       "      <td>LG에너지솔루션</td>\n",
       "      <td>408,500</td>\n",
       "      <td>상승 1,500</td>\n",
       "      <td>0.37</td>\n",
       "    </tr>\n",
       "    <tr>\n",
       "      <th>13</th>\n",
       "      <td>KB금융</td>\n",
       "      <td>65,300</td>\n",
       "      <td>상승 200</td>\n",
       "      <td>0.31</td>\n",
       "    </tr>\n",
       "    <tr>\n",
       "      <th>0</th>\n",
       "      <td>삼성전자</td>\n",
       "      <td>73,000</td>\n",
       "      <td>보합</td>\n",
       "      <td>0.00</td>\n",
       "    </tr>\n",
       "    <tr>\n",
       "      <th>4</th>\n",
       "      <td>삼성전자우</td>\n",
       "      <td>63,000</td>\n",
       "      <td>하락 100</td>\n",
       "      <td>-0.16</td>\n",
       "    </tr>\n",
       "    <tr>\n",
       "      <th>8</th>\n",
       "      <td>POSCO홀딩스</td>\n",
       "      <td>436,000</td>\n",
       "      <td>하락 2,000</td>\n",
       "      <td>-0.46</td>\n",
       "    </tr>\n",
       "    <tr>\n",
       "      <th>3</th>\n",
       "      <td>삼성바이오로직스</td>\n",
       "      <td>819,000</td>\n",
       "      <td>하락 4,000</td>\n",
       "      <td>-0.49</td>\n",
       "    </tr>\n",
       "    <tr>\n",
       "      <th>7</th>\n",
       "      <td>셀트리온</td>\n",
       "      <td>176,100</td>\n",
       "      <td>하락 900</td>\n",
       "      <td>-0.51</td>\n",
       "    </tr>\n",
       "    <tr>\n",
       "      <th>14</th>\n",
       "      <td>카카오</td>\n",
       "      <td>57,700</td>\n",
       "      <td>하락 300</td>\n",
       "      <td>-0.52</td>\n",
       "    </tr>\n",
       "    <tr>\n",
       "      <th>10</th>\n",
       "      <td>NAVER</td>\n",
       "      <td>200,500</td>\n",
       "      <td>하락 2,000</td>\n",
       "      <td>-0.99</td>\n",
       "    </tr>\n",
       "    <tr>\n",
       "      <th>12</th>\n",
       "      <td>삼성SDI</td>\n",
       "      <td>396,000</td>\n",
       "      <td>하락 4,000</td>\n",
       "      <td>-1.00</td>\n",
       "    </tr>\n",
       "    <tr>\n",
       "      <th>9</th>\n",
       "      <td>LG화학</td>\n",
       "      <td>482,000</td>\n",
       "      <td>하락 18,000</td>\n",
       "      <td>-3.60</td>\n",
       "    </tr>\n",
       "  </tbody>\n",
       "</table>\n",
       "</div>"
      ],
      "text/plain": [
       "         종목명      현재가       전일대비   등락률\n",
       "1     SK하이닉스  155,400   상승 6,400  4.30\n",
       "6         기아  119,800   상승 3,000  2.57\n",
       "11      삼성물산  165,400   상승 4,100  2.54\n",
       "5        현대차  244,000   상승 4,500  1.88\n",
       "2   LG에너지솔루션  408,500   상승 1,500  0.37\n",
       "13      KB금융   65,300     상승 200  0.31\n",
       "0       삼성전자   73,000         보합  0.00\n",
       "4      삼성전자우   63,000     하락 100 -0.16\n",
       "8   POSCO홀딩스  436,000   하락 2,000 -0.46\n",
       "3   삼성바이오로직스  819,000   하락 4,000 -0.49\n",
       "7       셀트리온  176,100     하락 900 -0.51\n",
       "14       카카오   57,700     하락 300 -0.52\n",
       "10     NAVER  200,500   하락 2,000 -0.99\n",
       "12     삼성SDI  396,000   하락 4,000 -1.00\n",
       "9       LG화학  482,000  하락 18,000 -3.60"
      ]
     },
     "execution_count": 278,
     "metadata": {},
     "output_type": "execute_result"
    }
   ],
   "source": [
    "df1.sort_values('등락률', ascending=False)"
   ]
  },
  {
   "cell_type": "code",
   "execution_count": null,
   "id": "487d8ce4",
   "metadata": {},
   "outputs": [],
   "source": [
    "df2 = df_3.copy()"
   ]
  },
  {
   "cell_type": "code",
   "execution_count": 288,
   "id": "24fd6633",
   "metadata": {},
   "outputs": [],
   "source": [
    "# 등락률의 -, +를 파생변수 등락을 생성하여 [상승, 하락, 보합]\n",
    "df2['등락'] = df2['등락률'].map(\n",
    "    lambda x : '상승' if x[0] == \"+\" else ('하락' if x[0] == '-' else '보합')\n",
    ")"
   ]
  },
  {
   "cell_type": "code",
   "execution_count": 301,
   "id": "18a27062",
   "metadata": {},
   "outputs": [],
   "source": [
    "df2['등락률'] = df2['등락률'].map(\n",
    "    lambda x : x.strip(\"-\" \"+\" \"%\")\n",
    ")"
   ]
  },
  {
   "cell_type": "code",
   "execution_count": 304,
   "id": "e0010cb4",
   "metadata": {
    "scrolled": true
   },
   "outputs": [
    {
     "data": {
      "text/html": [
       "<div>\n",
       "<style scoped>\n",
       "    .dataframe tbody tr th:only-of-type {\n",
       "        vertical-align: middle;\n",
       "    }\n",
       "\n",
       "    .dataframe tbody tr th {\n",
       "        vertical-align: top;\n",
       "    }\n",
       "\n",
       "    .dataframe thead th {\n",
       "        text-align: right;\n",
       "    }\n",
       "</style>\n",
       "<table border=\"1\" class=\"dataframe\">\n",
       "  <thead>\n",
       "    <tr style=\"text-align: right;\">\n",
       "      <th></th>\n",
       "      <th>종목명</th>\n",
       "      <th>현재가</th>\n",
       "      <th>전일대비</th>\n",
       "      <th>등락률</th>\n",
       "      <th>등락</th>\n",
       "    </tr>\n",
       "  </thead>\n",
       "  <tbody>\n",
       "    <tr>\n",
       "      <th>0</th>\n",
       "      <td>삼성전자</td>\n",
       "      <td>73,000</td>\n",
       "      <td>보합</td>\n",
       "      <td>0.00</td>\n",
       "      <td>보합</td>\n",
       "    </tr>\n",
       "    <tr>\n",
       "      <th>4</th>\n",
       "      <td>삼성전자우</td>\n",
       "      <td>63,000</td>\n",
       "      <td>하락 100</td>\n",
       "      <td>0.16</td>\n",
       "      <td>하락</td>\n",
       "    </tr>\n",
       "    <tr>\n",
       "      <th>13</th>\n",
       "      <td>KB금융</td>\n",
       "      <td>65,300</td>\n",
       "      <td>상승 200</td>\n",
       "      <td>0.31</td>\n",
       "      <td>상승</td>\n",
       "    </tr>\n",
       "    <tr>\n",
       "      <th>2</th>\n",
       "      <td>LG에너지솔루션</td>\n",
       "      <td>408,500</td>\n",
       "      <td>상승 1,500</td>\n",
       "      <td>0.37</td>\n",
       "      <td>상승</td>\n",
       "    </tr>\n",
       "    <tr>\n",
       "      <th>8</th>\n",
       "      <td>POSCO홀딩스</td>\n",
       "      <td>436,000</td>\n",
       "      <td>하락 2,000</td>\n",
       "      <td>0.46</td>\n",
       "      <td>하락</td>\n",
       "    </tr>\n",
       "    <tr>\n",
       "      <th>3</th>\n",
       "      <td>삼성바이오로직스</td>\n",
       "      <td>819,000</td>\n",
       "      <td>하락 4,000</td>\n",
       "      <td>0.49</td>\n",
       "      <td>하락</td>\n",
       "    </tr>\n",
       "    <tr>\n",
       "      <th>7</th>\n",
       "      <td>셀트리온</td>\n",
       "      <td>176,100</td>\n",
       "      <td>하락 900</td>\n",
       "      <td>0.51</td>\n",
       "      <td>하락</td>\n",
       "    </tr>\n",
       "    <tr>\n",
       "      <th>14</th>\n",
       "      <td>카카오</td>\n",
       "      <td>57,700</td>\n",
       "      <td>하락 300</td>\n",
       "      <td>0.52</td>\n",
       "      <td>하락</td>\n",
       "    </tr>\n",
       "    <tr>\n",
       "      <th>10</th>\n",
       "      <td>NAVER</td>\n",
       "      <td>200,500</td>\n",
       "      <td>하락 2,000</td>\n",
       "      <td>0.99</td>\n",
       "      <td>하락</td>\n",
       "    </tr>\n",
       "    <tr>\n",
       "      <th>12</th>\n",
       "      <td>삼성SDI</td>\n",
       "      <td>396,000</td>\n",
       "      <td>하락 4,000</td>\n",
       "      <td>1.00</td>\n",
       "      <td>하락</td>\n",
       "    </tr>\n",
       "    <tr>\n",
       "      <th>5</th>\n",
       "      <td>현대차</td>\n",
       "      <td>244,000</td>\n",
       "      <td>상승 4,500</td>\n",
       "      <td>1.88</td>\n",
       "      <td>상승</td>\n",
       "    </tr>\n",
       "    <tr>\n",
       "      <th>11</th>\n",
       "      <td>삼성물산</td>\n",
       "      <td>165,400</td>\n",
       "      <td>상승 4,100</td>\n",
       "      <td>2.54</td>\n",
       "      <td>상승</td>\n",
       "    </tr>\n",
       "    <tr>\n",
       "      <th>6</th>\n",
       "      <td>기아</td>\n",
       "      <td>119,800</td>\n",
       "      <td>상승 3,000</td>\n",
       "      <td>2.57</td>\n",
       "      <td>상승</td>\n",
       "    </tr>\n",
       "    <tr>\n",
       "      <th>9</th>\n",
       "      <td>LG화학</td>\n",
       "      <td>482,000</td>\n",
       "      <td>하락 18,000</td>\n",
       "      <td>3.60</td>\n",
       "      <td>하락</td>\n",
       "    </tr>\n",
       "    <tr>\n",
       "      <th>1</th>\n",
       "      <td>SK하이닉스</td>\n",
       "      <td>155,400</td>\n",
       "      <td>상승 6,400</td>\n",
       "      <td>4.30</td>\n",
       "      <td>상승</td>\n",
       "    </tr>\n",
       "  </tbody>\n",
       "</table>\n",
       "</div>"
      ],
      "text/plain": [
       "         종목명      현재가       전일대비   등락률  등락\n",
       "0       삼성전자   73,000         보합  0.00  보합\n",
       "4      삼성전자우   63,000     하락 100  0.16  하락\n",
       "13      KB금융   65,300     상승 200  0.31  상승\n",
       "2   LG에너지솔루션  408,500   상승 1,500  0.37  상승\n",
       "8   POSCO홀딩스  436,000   하락 2,000  0.46  하락\n",
       "3   삼성바이오로직스  819,000   하락 4,000  0.49  하락\n",
       "7       셀트리온  176,100     하락 900  0.51  하락\n",
       "14       카카오   57,700     하락 300  0.52  하락\n",
       "10     NAVER  200,500   하락 2,000  0.99  하락\n",
       "12     삼성SDI  396,000   하락 4,000  1.00  하락\n",
       "5        현대차  244,000   상승 4,500  1.88  상승\n",
       "11      삼성물산  165,400   상승 4,100  2.54  상승\n",
       "6         기아  119,800   상승 3,000  2.57  상승\n",
       "9       LG화학  482,000  하락 18,000  3.60  하락\n",
       "1     SK하이닉스  155,400   상승 6,400  4.30  상승"
      ]
     },
     "execution_count": 304,
     "metadata": {},
     "output_type": "execute_result"
    }
   ],
   "source": [
    "df2.sort_values(['등락률', '등락'])"
   ]
  },
  {
   "cell_type": "code",
   "execution_count": null,
   "id": "fe3bb743",
   "metadata": {},
   "outputs": [],
   "source": []
  }
 ],
 "metadata": {
  "kernelspec": {
   "display_name": "Python 3 (ipykernel)",
   "language": "python",
   "name": "python3"
  },
  "language_info": {
   "codemirror_mode": {
    "name": "ipython",
    "version": 3
   },
   "file_extension": ".py",
   "mimetype": "text/x-python",
   "name": "python",
   "nbconvert_exporter": "python",
   "pygments_lexer": "ipython3",
   "version": "3.11.5"
  }
 },
 "nbformat": 4,
 "nbformat_minor": 5
}
