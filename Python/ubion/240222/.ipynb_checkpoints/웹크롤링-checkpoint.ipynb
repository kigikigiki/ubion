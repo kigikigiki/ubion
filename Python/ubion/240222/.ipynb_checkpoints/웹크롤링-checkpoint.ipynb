{
 "cells": [
  {
   "cell_type": "markdown",
   "id": "072b6591",
   "metadata": {},
   "source": [
    "### 웹 크롤링\n",
    "1. 사용할 라이브러리 목록\n",
    "    - requests\n",
    "    - bs4 (BeautifulSoup)\n",
    "        - bs4 라이브러리 안에 있는 BeautifulSoup class\n",
    "        - html 문서형 데이터를 pasing 하여 데이터를 쉽게 추출할 수 있도록 도와주는 라이브러리\n",
    "        - html에서 TAG를 기준으로 데이터를 추출\n",
    "        - 웹의 구조를 어느정도 인지하고 사용한다면 쉽게 사용 가능\n",
    "        - Parser를 활용해서 파이썬에서 접근이 쉽게 객체 형태로 제공\n",
    "    - selenium\n",
    "        - 웹 어플리케이션을 테스트하기 위해 만들어진 라이브러리\n",
    "        - 웹 브라우져를 python의 code를 이용하여 제어\n",
    "        - 크롬이 구버전이거나 selenium이 구버전인 경우에는 별도의 소프트웨어를 설치"
   ]
  },
  {
   "cell_type": "code",
   "execution_count": 16,
   "id": "6bb1c299",
   "metadata": {},
   "outputs": [],
   "source": [
    "import requests\n",
    "from bs4 import BeautifulSoup as bs"
   ]
  },
  {
   "cell_type": "code",
   "execution_count": 9,
   "id": "2dcb57c3",
   "metadata": {},
   "outputs": [
    {
     "data": {
      "text/plain": [
       "'네이버'"
      ]
     },
     "execution_count": 9,
     "metadata": {},
     "output_type": "execute_result"
    }
   ],
   "source": [
    "url = \"https://www.naver.com\"\n",
    "response = requests.get(url)\n",
    "\n",
    "html_data = response.text\n",
    "html_data[378:381]"
   ]
  },
  {
   "cell_type": "code",
   "execution_count": 14,
   "id": "497be856",
   "metadata": {},
   "outputs": [
    {
     "data": {
      "text/plain": [
       "378"
      ]
     },
     "execution_count": 14,
     "metadata": {},
     "output_type": "execute_result"
    }
   ],
   "source": [
    "html_data.find('네이버')"
   ]
  },
  {
   "cell_type": "code",
   "execution_count": 22,
   "id": "113c3f2c",
   "metadata": {},
   "outputs": [],
   "source": [
    "## pasing 작업 : 데이터의 형태를 변환 (새로운 class에 인자값을 댕비하여 새로운 객체를 생성)\n",
    "soup = bs(html_data, 'html.parser')"
   ]
  },
  {
   "cell_type": "markdown",
   "id": "dc2ec3c4",
   "metadata": {},
   "source": [
    "- 태그의 이름을 기준으로 검색\n",
    "    - soup.태그명 : HTML 문서에서 해당 태그명의 첫번째 정보를 출력\n",
    "    - soup.태그명.string : 첫번째 태그 정보에서 문자열이 출력\n",
    "    - soup.태그명.['속성명'] : 첫번째 태그 정보에서 속성의 값이 출력"
   ]
  },
  {
   "cell_type": "code",
   "execution_count": 23,
   "id": "5674a5f5",
   "metadata": {},
   "outputs": [
    {
     "data": {
      "text/plain": [
       "<a href=\"#topAsideButton\"><span>상단영역 바로가기</span></a>"
      ]
     },
     "execution_count": 23,
     "metadata": {},
     "output_type": "execute_result"
    }
   ],
   "source": [
    "# 네이버에서 a태그(하이퍼링크) 중 첫번째 태그를 확인\n",
    "soup.a"
   ]
  },
  {
   "cell_type": "code",
   "execution_count": 24,
   "id": "17a42447",
   "metadata": {},
   "outputs": [
    {
     "data": {
      "text/plain": [
       "'상단영역 바로가기'"
      ]
     },
     "execution_count": 24,
     "metadata": {},
     "output_type": "execute_result"
    }
   ],
   "source": [
    "soup.a.string"
   ]
  },
  {
   "cell_type": "code",
   "execution_count": 25,
   "id": "84c31866",
   "metadata": {},
   "outputs": [
    {
     "data": {
      "text/plain": [
       "'#topAsideButton'"
      ]
     },
     "execution_count": 25,
     "metadata": {},
     "output_type": "execute_result"
    }
   ],
   "source": [
    "soup.a['href']"
   ]
  },
  {
   "cell_type": "markdown",
   "id": "06c8d532",
   "metadata": {},
   "source": [
    "- find({태그명})\n",
    "    - HTML 문자열에서 해당 태그의 첫번째 정보를 출력\n",
    "    - find(속성명 = 속성값) : 태그들 중에 해당 속성을 가지고 있는 태그의 첫번째 정보를 출력\n",
    "- find_all({태그명})\n",
    "    - HTML 문자열에서 해당 태그의 모든 태그 정보를 리스트의 형태로 출력\n",
    "    - limit 매개변수 : 리스트의 개수를 지정 "
   ]
  },
  {
   "cell_type": "code",
   "execution_count": 37,
   "id": "2d265965",
   "metadata": {},
   "outputs": [],
   "source": [
    "frist_a = soup.find('a')"
   ]
  },
  {
   "cell_type": "code",
   "execution_count": 38,
   "id": "97c7a0e1",
   "metadata": {},
   "outputs": [
    {
     "data": {
      "text/plain": [
       "bs4.element.Tag"
      ]
     },
     "execution_count": 38,
     "metadata": {},
     "output_type": "execute_result"
    }
   ],
   "source": [
    "type(frist_a)"
   ]
  },
  {
   "cell_type": "code",
   "execution_count": 39,
   "id": "e7db9d2e",
   "metadata": {},
   "outputs": [],
   "source": [
    "a_list = soup.find_all(\"a\")"
   ]
  },
  {
   "cell_type": "code",
   "execution_count": 41,
   "id": "598a404a",
   "metadata": {},
   "outputs": [
    {
     "data": {
      "text/plain": [
       "bs4.element.ResultSet"
      ]
     },
     "execution_count": 41,
     "metadata": {},
     "output_type": "execute_result"
    }
   ],
   "source": [
    "type(a_list)"
   ]
  },
  {
   "cell_type": "code",
   "execution_count": 42,
   "id": "ed9fd659",
   "metadata": {},
   "outputs": [
    {
     "name": "stdout",
     "output_type": "stream",
     "text": [
      "<a href=\"#topAsideButton\"><span>상단영역 바로가기</span></a>\n",
      "[<a href=\"#topAsideButton\"><span>상단영역 바로가기</span></a>, <a href=\"#shortcutArea\"><span>서비스 메뉴 바로가기</span></a>, <a href=\"#newsstand\"><span>새소식 블록 바로가기</span></a>, <a href=\"#shopping\"><span>쇼핑 블록 바로가기</span></a>, <a href=\"#feed\"><span>관심사 블록 바로가기</span></a>, <a href=\"#account\"><span>MY 영역 바로가기</span></a>, <a href=\"#widgetboard\"><span>위젯 보드 바로가기</span></a>, <a href=\"#viewSetting\"><span>보기 설정 바로가기</span></a>, <a aria-pressed=\"false\" class=\"item _delAll\" href=\"#\" role=\"button\">전체삭제</a>, <a class=\"kwd_help\" data-clk=\"sly.help\" href=\"https://help.naver.com/alias/search/word/word_35.naver\" target=\"_blank\">도움말</a>, <a class=\"kwd_help\" data-clk=\"sly.help\" href=\"https://help.naver.com/alias/search/word/word_35.naver\" target=\"_blank\">도움말</a>, <a class=\"close _keywordOnOff\" href=\"#\">자동저장 끄기</a>, <a data-clk=\"sly.help\" href=\"https://help.naver.com/alias/search/word/word_35.naver\" target=\"_blank\">도움말</a>, <a class=\"close _close\" href=\"#\">닫기</a>, <a aria-pressed=\"false\" class=\"btn_help _tg_btn\" href=\"#\" role=\"button\"><i class=\"imgsvg ico_alert\">이 정보가 표시된 이유</i></a>, <a class=\"btn_close _tg_btn\" href=\"#\" role=\"button\"><i class=\"imgsvg ico_close\">레이어 닫기</i></a>, <a class=\"link _alert_link\" href=\"#\" target=\"_blank\">자세히보기</a>, <a class=\"link_dsc\" data-clk=\"sug.cxhelp\" href=\"https://help.naver.com/alias/search/word/word_16.naver\" target=\"_blank\">관심사를 반영한 컨텍스트 자동완성<i class=\"imgsvg ico_help\">도움말</i></a>, <a aria-pressed=\"false\" class=\"bt_switch active _plus_btn\" href=\"#\" role=\"button\"><i class=\"imgsvg ico_option\">컨텍스트 자동완성</i></a>, <a class=\"link_view\" data-clk=\"sug.cxlink\" href=\"https://help.naver.com/alias/search/word/word_16.naver\" target=\"_blank\">자세히 보기</a>, <a class=\"link_view\" data-clk=\"sug.cxlink\" href=\"https://help.naver.com/support/alias/search/word/word_16.naver\" target=\"_blank\">자세히 보기</a>, <a class=\"btn btn_login\" data-clk=\"sug.cxlogin\" href=\"https://nid.naver.com/nidlogin.login\"><i class=\"imgsvg ico_naver\">네이버</i>로그인</a>, <a class=\"btn_close _plus_layer_close\" href=\"#\" role=\"button\"><i class=\"imgsvg ico_close\">컨텍스트 자동완성 레이어 닫기</i></a>, <a class=\"close _suggestOnOff\" href=\"#\">자동완성 끄기</a>, <a data-clk=\"sug.help\" href=\"https://help.naver.com/alias/search/word/word_17.naver\" target=\"_blank\">도움말</a>, <a class=\"report\" data-clk=\"sug.report\" href=\"https://help.naver.com/alias/search/word/word_18.naver\" target=\"_blank\">신고</a>, <a class=\"close _close\" href=\"#\">닫기</a>]\n"
     ]
    }
   ],
   "source": [
    "print(frist_a)\n",
    "print(a_list)"
   ]
  },
  {
   "cell_type": "code",
   "execution_count": 44,
   "id": "4dbab3b2",
   "metadata": {},
   "outputs": [
    {
     "data": {
      "text/plain": [
       "'상단영역 바로가기'"
      ]
     },
     "execution_count": 44,
     "metadata": {},
     "output_type": "execute_result"
    }
   ],
   "source": [
    "frist_a.get_text()"
   ]
  },
  {
   "cell_type": "code",
   "execution_count": 49,
   "id": "2f73daf6",
   "metadata": {
    "scrolled": true
   },
   "outputs": [
    {
     "data": {
      "text/plain": [
       "['상단영역 바로가기',\n",
       " '서비스 메뉴 바로가기',\n",
       " '새소식 블록 바로가기',\n",
       " '쇼핑 블록 바로가기',\n",
       " '관심사 블록 바로가기',\n",
       " 'MY 영역 바로가기',\n",
       " '위젯 보드 바로가기',\n",
       " '보기 설정 바로가기',\n",
       " '전체삭제',\n",
       " '도움말',\n",
       " '도움말',\n",
       " '자동저장 끄기',\n",
       " '도움말',\n",
       " '닫기',\n",
       " '이 정보가 표시된 이유',\n",
       " '레이어 닫기',\n",
       " '자세히보기',\n",
       " '관심사를 반영한 컨텍스트 자동완성도움말',\n",
       " '컨텍스트 자동완성',\n",
       " '자세히 보기',\n",
       " '자세히 보기',\n",
       " '네이버로그인',\n",
       " '컨텍스트 자동완성 레이어 닫기',\n",
       " '자동완성 끄기',\n",
       " '도움말',\n",
       " '신고',\n",
       " '닫기']"
      ]
     },
     "execution_count": 49,
     "metadata": {},
     "output_type": "execute_result"
    }
   ],
   "source": [
    "data_list = []\n",
    "for i in a_list :\n",
    "    data_list.append(i.get_text())\n",
    "data_list"
   ]
  },
  {
   "cell_type": "code",
   "execution_count": 50,
   "id": "e8e1dbbb",
   "metadata": {},
   "outputs": [],
   "source": [
    "## 네이버 파이낸스 페이지에서 데이터를 크롤링\n",
    "url = \"https://finance.naver.com/\"\n",
    "response = requests.get(url)"
   ]
  },
  {
   "cell_type": "code",
   "execution_count": 51,
   "id": "f5eac740",
   "metadata": {},
   "outputs": [
    {
     "data": {
      "text/plain": [
       "<Response [200]>"
      ]
     },
     "execution_count": 51,
     "metadata": {},
     "output_type": "execute_result"
    }
   ],
   "source": [
    "response"
   ]
  },
  {
   "cell_type": "code",
   "execution_count": 52,
   "id": "740a4ccf",
   "metadata": {},
   "outputs": [],
   "source": [
    "html_data = response.text"
   ]
  },
  {
   "cell_type": "code",
   "execution_count": 53,
   "id": "e4502ef2",
   "metadata": {},
   "outputs": [],
   "source": [
    "# Beautifulsoup의 데이터 형으로 파싱\n",
    "soup = bs(html_data, 'html.parser')"
   ]
  },
  {
   "cell_type": "code",
   "execution_count": null,
   "id": "f14215c6",
   "metadata": {},
   "outputs": [],
   "source": []
  }
 ],
 "metadata": {
  "kernelspec": {
   "display_name": "Python 3 (ipykernel)",
   "language": "python",
   "name": "python3"
  },
  "language_info": {
   "codemirror_mode": {
    "name": "ipython",
    "version": 3
   },
   "file_extension": ".py",
   "mimetype": "text/x-python",
   "name": "python",
   "nbconvert_exporter": "python",
   "pygments_lexer": "ipython3",
   "version": "3.11.5"
  }
 },
 "nbformat": 4,
 "nbformat_minor": 5
}
