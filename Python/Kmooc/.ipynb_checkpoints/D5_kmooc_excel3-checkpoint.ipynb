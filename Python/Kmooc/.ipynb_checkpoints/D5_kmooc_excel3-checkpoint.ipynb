{
 "cells": [
  {
   "cell_type": "code",
   "execution_count": 2,
   "metadata": {},
   "outputs": [],
   "source": [
    "from openpyxl import Workbook\n",
    "\n",
    "wb = Workbook()\n",
    "sheet = wb.active\n",
    "\n",
    "rows = (\n",
    "    ('A', 496, 48, 454),\n",
    "    ('B', 730, 42, 116),\n",
    "    ('C', 905, 17, 257),\n",
    "    ('D', 132, 839, 453),\n",
    "    ('F', 81, 240, 444),\n",
    "    ('E', 151, 716, 482),\n",
    "    ('G', 100, 200, 300)\n",
    ")\n",
    "\n",
    "for row in rows :\n",
    "    sheet.append(row)\n",
    "\n",
    "wb.save(\"new_data.xlsx\")"
   ]
  },
  {
   "cell_type": "code",
   "execution_count": 3,
   "metadata": {},
   "outputs": [],
   "source": [
    "wb_sheet = wb.active\n",
    "\n",
    "wb_sheet.column_dimensions.group('B','C', hidden=True)\n",
    "\n",
    "wb_sheet.row_dimensions.group(2, 4, hidden=True)\n",
    "\n",
    "wb.save(\"updated_data.xlsx\")"
   ]
  },
  {
   "cell_type": "code",
   "execution_count": 5,
   "metadata": {},
   "outputs": [],
   "source": [
    "import openpyxl\n",
    "\n",
    "workbook = openpyxl.load_workbook('new_data.xlsx')"
   ]
  },
  {
   "cell_type": "code",
   "execution_count": 14,
   "metadata": {},
   "outputs": [
    {
     "name": "stdout",
     "output_type": "stream",
     "text": [
      "<class 'int'>\n",
      "A 496 48 454 \n",
      "B 730 42 116 \n",
      "C 905 17 257 \n",
      "D 132 839 453 \n",
      "F 81 240 444 \n",
      "E 151 716 482 \n",
      "G 100 200 300 \n",
      "Total 2595 None None \n"
     ]
    }
   ],
   "source": [
    "wb_sheet = workbook.active\n",
    "\n",
    "wb_sheet['A8'] = 'Total'\n",
    "\n",
    "sum = 0\n",
    "data = wb_sheet['B']\n",
    "\n",
    "print(type(data[0].value))\n",
    "for each in data :\n",
    "    sum += each.value\n",
    "\n",
    "cell = wb_sheet.cell(row = 8, column = 2)\n",
    "cell.value = sum\n",
    "for row in wb_sheet.rows :\n",
    "    for cell in row:\n",
    "        print(cell.value, end = ' ')\n",
    "    print()"
   ]
  },
  {
   "cell_type": "code",
   "execution_count": 15,
   "metadata": {},
   "outputs": [
    {
     "name": "stdout",
     "output_type": "stream",
     "text": [
      "((<Cell 'Sheet'.B1>, <Cell 'Sheet'.C1>, <Cell 'Sheet'.D1>),)\n"
     ]
    }
   ],
   "source": [
    "workbook = openpyxl.load_workbook('new_data.xlsx')\n",
    "\n",
    "wb_sheet = workbook.active\n",
    "\n",
    "data = wb_sheet['B1:D1']\n",
    "print(data)"
   ]
  },
  {
   "cell_type": "code",
   "execution_count": 19,
   "metadata": {},
   "outputs": [
    {
     "name": "stdout",
     "output_type": "stream",
     "text": [
      "A 496 48 454 998 \n",
      "B 730 42 116 None \n",
      "C 905 17 257 None \n",
      "D 132 839 453 None \n",
      "F 81 240 444 None \n",
      "E 151 716 482 None \n",
      "G 100 200 300 None \n"
     ]
    }
   ],
   "source": [
    "sum = 0\n",
    "\n",
    "for each in data :\n",
    "    for i in range(3) :\n",
    "        sum += each[i].value\n",
    "\n",
    "cell = wb_sheet.cell(row = 1, column = 5)\n",
    "cell.value = sum\n",
    "\n",
    "for row in wb_sheet.rows :\n",
    "    for cell in row :\n",
    "        print(cell.value, end = \" \")\n",
    "    print()"
   ]
  },
  {
   "cell_type": "code",
   "execution_count": null,
   "metadata": {},
   "outputs": [],
   "source": []
  }
 ],
 "metadata": {
  "kernelspec": {
   "display_name": "Python 3 (ipykernel)",
   "language": "python",
   "name": "python3"
  },
  "language_info": {
   "codemirror_mode": {
    "name": "ipython",
    "version": 3
   },
   "file_extension": ".py",
   "mimetype": "text/x-python",
   "name": "python",
   "nbconvert_exporter": "python",
   "pygments_lexer": "ipython3",
   "version": "3.11.5"
  }
 },
 "nbformat": 4,
 "nbformat_minor": 2
}
