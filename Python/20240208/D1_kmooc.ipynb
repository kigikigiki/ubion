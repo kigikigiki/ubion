{
 "cells": [
  {
   "cell_type": "code",
   "execution_count": 26,
   "metadata": {},
   "outputs": [
    {
     "name": "stdout",
     "output_type": "stream",
     "text": [
      "10\n"
     ]
    }
   ],
   "source": [
    "a = 10\n",
    "print(a)"
   ]
  },
  {
   "cell_type": "markdown",
   "metadata": {},
   "source": [
    "# 제목1\n",
    "## 제목2\n",
    "### 제목3\n",
    "#### 제목4"
   ]
  },
  {
   "cell_type": "markdown",
   "metadata": {},
   "source": [
    "#### 순서형 리스트\n",
    "1. list1\n",
    "2. list2\n",
    "3. list3\n",
    "4. list4\n",
    "5. list5\n",
    "\n",
    "#### 비순서형 리스트\n",
    " - list1\n",
    " - list2\n",
    " - list3\n",
    " - list4\n",
    "    - sub list1\n",
    "    - sub list2"
   ]
  },
  {
   "cell_type": "code",
   "execution_count": 27,
   "metadata": {},
   "outputs": [],
   "source": [
    "# 변수 생성\n",
    "a = 10\n",
    "b = 'test'"
   ]
  },
  {
   "cell_type": "code",
   "execution_count": 28,
   "metadata": {},
   "outputs": [
    {
     "name": "stdout",
     "output_type": "stream",
     "text": [
      "10\n",
      "<class 'int'>\n",
      "test\n",
      "<class 'str'>\n"
     ]
    }
   ],
   "source": [
    "print(a)\n",
    "print(type(a))\n",
    "print(b)\n",
    "print(type(b))"
   ]
  },
  {
   "cell_type": "code",
   "execution_count": 29,
   "metadata": {},
   "outputs": [
    {
     "name": "stdout",
     "output_type": "stream",
     "text": [
      "a는 20보다 작거나 같다.\n"
     ]
    }
   ],
   "source": [
    "# 조건문\n",
    "# if 조건식 :\n",
    "if a > 20 :\n",
    "    print('a는 20보다 크다.')\n",
    "else :\n",
    "    print(\"a는 20보다 작거나 같다.\")"
   ]
  },
  {
   "cell_type": "code",
   "execution_count": 30,
   "metadata": {},
   "outputs": [
    {
     "name": "stdout",
     "output_type": "stream",
     "text": [
      "C\n"
     ]
    }
   ],
   "source": [
    "# 조건식이 여러개인 경우\n",
    "score = int(input(\"점수를 입력하시오\"))\n",
    "# print(\"점수 :\" , score)\n",
    "\n",
    "if score >= 90 :\n",
    "    print('A')\n",
    "elif score >=80 :\n",
    "    print('B')\n",
    "elif score >= 70 :\n",
    "    print('C')\n",
    "else :\n",
    "    print('F')"
   ]
  },
  {
   "cell_type": "markdown",
   "metadata": {},
   "source": [
    "### 반복문\n",
    "- for 문\n",
    "    - for 변수명 in range(시작값, 종료값, 증가값)\n",
    "    - for 변수명 in 자료형 데이터 (튜플, 리스트)\n",
    "- while 문\n",
    "    - 시작값을 지정하고 while 조건식을 이용하여 조건식이 거짓이 될때까지 반복 실행\n",
    "    - 반복 실행 코드에 시작값을 증가시키는 코드를 추가\n",
    "    - break문 이용하여 반복문을 강제 종료\n",
    "- break \n",
    "    - 반복문을 강제로 종료\n",
    "- continue\n",
    "    - 반복문으로 되돌아가는 구문"
   ]
  },
  {
   "cell_type": "code",
   "execution_count": 31,
   "metadata": {},
   "outputs": [
    {
     "name": "stdout",
     "output_type": "stream",
     "text": [
      "1\n",
      "2\n",
      "3\n",
      "4\n",
      "5\n",
      "6\n",
      "7\n",
      "8\n",
      "9\n"
     ]
    }
   ],
   "source": [
    "## range 함수를 이용한 반복문 생성\n",
    "for i in range(1, 10 ,1) :\n",
    "    print(i)"
   ]
  },
  {
   "cell_type": "code",
   "execution_count": 32,
   "metadata": {},
   "outputs": [
    {
     "name": "stdout",
     "output_type": "stream",
     "text": [
      "[1, 2, 3, 4, 5, 6, 7, 8, 9]\n"
     ]
    }
   ],
   "source": [
    "print(list(range(1, 10, 1)))"
   ]
  },
  {
   "cell_type": "code",
   "execution_count": 33,
   "metadata": {},
   "outputs": [
    {
     "name": "stdout",
     "output_type": "stream",
     "text": [
      "1\n",
      "3\n",
      "5\n",
      "7\n",
      "9\n"
     ]
    }
   ],
   "source": [
    "for i in range (1, 10, 2) :\n",
    "    print(i)"
   ]
  },
  {
   "cell_type": "code",
   "execution_count": 34,
   "metadata": {},
   "outputs": [
    {
     "name": "stdout",
     "output_type": "stream",
     "text": [
      "100\n",
      "test\n",
      "True\n"
     ]
    }
   ],
   "source": [
    "## 리스트 형태의 데이터를 이dyd하여 반복문 생성\n",
    "_list = [100, 'test', True]\n",
    "\n",
    "for i in _list :\n",
    "    print(i)"
   ]
  },
  {
   "cell_type": "code",
   "execution_count": 35,
   "metadata": {},
   "outputs": [
    {
     "name": "stdout",
     "output_type": "stream",
     "text": [
      "100\n",
      "test\n",
      "True\n"
     ]
    }
   ],
   "source": [
    "for i in range(0, len(_list), 1) :\n",
    "    print(_list[i])"
   ]
  },
  {
   "cell_type": "code",
   "execution_count": 41,
   "metadata": {},
   "outputs": [
    {
     "data": {
      "text/plain": [
       "110"
      ]
     },
     "execution_count": 41,
     "metadata": {},
     "output_type": "execute_result"
    }
   ],
   "source": [
    "## 1부터 10까지 합계\n",
    "\n",
    "# 합계라는 변수를 생성 초기값은 0으로 대입\n",
    "result = 0\n",
    "\n",
    "for i in range(1, 11, 1) :\n",
    "    #result = result + i\n",
    "    result += i\n",
    "result"
   ]
  },
  {
   "cell_type": "code",
   "execution_count": 43,
   "metadata": {},
   "outputs": [
    {
     "name": "stdout",
     "output_type": "stream",
     "text": [
      "55\n"
     ]
    }
   ],
   "source": [
    "#while 문\n",
    "i = 0\n",
    "result = 0\n",
    "\n",
    "while i <= 10 :\n",
    "    result += i\n",
    "    i += 1\n",
    "print(result)"
   ]
  },
  {
   "cell_type": "code",
   "execution_count": 50,
   "metadata": {},
   "outputs": [
    {
     "name": "stdout",
     "output_type": "stream",
     "text": [
      "----------2단 시작 ----------\n",
      "2 x 1 = 2\t2 x 2 = 4\t2 x 3 = 6\t2 x 4 = 8\t2 x 5 = 10\t2 x 6 = 12\t2 x 7 = 14\t2 x 8 = 16\t2 x 9 = 18\t\n",
      "----------2단 종료 ----------\n",
      "----------3단 시작 ----------\n",
      "3 x 1 = 3\t3 x 2 = 6\t3 x 3 = 9\t3 x 4 = 12\t3 x 5 = 15\t3 x 6 = 18\t3 x 7 = 21\t3 x 8 = 24\t3 x 9 = 27\t\n",
      "----------3단 종료 ----------\n",
      "----------4단 시작 ----------\n",
      "4 x 1 = 4\t4 x 2 = 8\t4 x 3 = 12\t4 x 4 = 16\t4 x 5 = 20\t4 x 6 = 24\t4 x 7 = 28\t4 x 8 = 32\t4 x 9 = 36\t\n",
      "----------4단 종료 ----------\n",
      "----------5단 시작 ----------\n",
      "5 x 1 = 5\t5 x 2 = 10\t5 x 3 = 15\t5 x 4 = 20\t5 x 5 = 25\t5 x 6 = 30\t5 x 7 = 35\t5 x 8 = 40\t5 x 9 = 45\t\n",
      "----------5단 종료 ----------\n",
      "----------6단 시작 ----------\n",
      "6 x 1 = 6\t6 x 2 = 12\t6 x 3 = 18\t6 x 4 = 24\t6 x 5 = 30\t6 x 6 = 36\t6 x 7 = 42\t6 x 8 = 48\t6 x 9 = 54\t\n",
      "----------6단 종료 ----------\n",
      "----------7단 시작 ----------\n",
      "7 x 1 = 7\t7 x 2 = 14\t7 x 3 = 21\t7 x 4 = 28\t7 x 5 = 35\t7 x 6 = 42\t7 x 7 = 49\t7 x 8 = 56\t7 x 9 = 63\t\n",
      "----------7단 종료 ----------\n",
      "----------8단 시작 ----------\n",
      "8 x 1 = 8\t8 x 2 = 16\t8 x 3 = 24\t8 x 4 = 32\t8 x 5 = 40\t8 x 6 = 48\t8 x 7 = 56\t8 x 8 = 64\t8 x 9 = 72\t\n",
      "----------8단 종료 ----------\n",
      "----------9단 시작 ----------\n",
      "9 x 1 = 9\t9 x 2 = 18\t9 x 3 = 27\t9 x 4 = 36\t9 x 5 = 45\t9 x 6 = 54\t9 x 7 = 63\t9 x 8 = 72\t9 x 9 = 81\t\n",
      "----------9단 종료 ----------\n"
     ]
    }
   ],
   "source": [
    "## 구구단\n",
    "## 2단부터 9단까지 1 - 9 곱한 데이터를 출력\n",
    "for i in range (2, 10 , 1) :\n",
    "    print(f'----------{i}단 시작 ----------')\n",
    "    for j in range (1, 10, 1) :\n",
    "        print(f'{i} x {j} = {i * j}', end = '\\t')\n",
    "    print('')\n",
    "    print(f'----------{i}단 종료 ----------')"
   ]
  },
  {
   "cell_type": "markdown",
   "metadata": {},
   "source": [
    "### 반복문 예제 문제 (다중 for 문)\n",
    "- 페르마의 마지막 정리가 참인가? 확인\n",
    "\n",
    "\n",
    "> a<sup>n</sup> + b<sup>n</sup> = c<sup>n</sup> 이 식에서 n이 2보다 큰 자연수라면 a, b, c에 들어갈 수 있는 자연수는 존재하지 않는다.\n",
    "\n",
    "- n이 3이라 가정을 하고 a, b, c에 1부터 10까지 값들을 넣어서 해당하는 조건식이 참인 경우가 존재하는가를 확인"
   ]
  },
  {
   "cell_type": "code",
   "execution_count": 59,
   "metadata": {},
   "outputs": [
    {
     "name": "stdout",
     "output_type": "stream",
     "text": [
      "프로그램 종료\n"
     ]
    }
   ],
   "source": [
    "n = 3\n",
    "_end = 10\n",
    "for a in range(1, _end, 1) :   \n",
    "    for b in range (1, _end, 1) :\n",
    "        for c in range (1, _end, 1) :\n",
    "            if a**n + b**n == c**n :\n",
    "                print(a,b,c)\n",
    "print(\"프로그램 종료\")\n",
    "                "
   ]
  },
  {
   "cell_type": "code",
   "execution_count": 2,
   "metadata": {},
   "outputs": [
    {
     "name": "stdout",
     "output_type": "stream",
     "text": [
      "2\n",
      "3\n",
      "5\n",
      "7\n",
      "8\n"
     ]
    }
   ],
   "source": [
    "cnt = 0\n",
    "for i in range (2, 10, 1) :\n",
    "    n = True\n",
    "    cnt += 1\n",
    "    for j in range (2, i, 1) :\n",
    "        if i%j == 0 :\n",
    "            n = False\n",
    "    if n == True :\n",
    "        print(i)\n",
    "print(cnt)\n",
    "            "
   ]
  },
  {
   "cell_type": "code",
   "execution_count": 12,
   "metadata": {},
   "outputs": [
    {
     "name": "stdout",
     "output_type": "stream",
     "text": [
      "2\n",
      "3\n",
      "5\n",
      "7\n"
     ]
    }
   ],
   "source": [
    "n = True\n",
    "for i in range(2, 11, 1) :\n",
    "    for j in range(2, i, 1) :\n",
    "        if i % j == 0 :\n",
    "            n = False\n",
    "            break\n",
    "        if i % j != 0 :\n",
    "            n = True\n",
    "    if n == True :\n",
    "       print(i)"
   ]
  },
  {
   "cell_type": "code",
   "execution_count": null,
   "metadata": {},
   "outputs": [],
   "source": []
  }
 ],
 "metadata": {
  "kernelspec": {
   "display_name": "Python 3",
   "language": "python",
   "name": "python3"
  },
  "language_info": {
   "codemirror_mode": {
    "name": "ipython",
    "version": 3
   },
   "file_extension": ".py",
   "mimetype": "text/x-python",
   "name": "python",
   "nbconvert_exporter": "python",
   "pygments_lexer": "ipython3",
   "version": "3.11.5"
  }
 },
 "nbformat": 4,
 "nbformat_minor": 2
}
