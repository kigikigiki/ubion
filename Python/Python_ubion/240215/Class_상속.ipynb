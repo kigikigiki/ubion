{
 "cells": [
  {
   "cell_type": "markdown",
   "metadata": {},
   "source": [
    "### class의 상속\n",
    "    - 부모 클래스의 기능은 그대로 유지하고 자식 클래스가 부모 클래스의 기능을 추가하여 사용하기 위한 기능"
   ]
  },
  {
   "cell_type": "markdown",
   "metadata": {},
   "source": [
    "### 부모 클래스\n",
    "    - 유저의 정보를 등록하는 클래스\n",
    "    - 유저의 정보는 이름, 나이, 성별\n",
    "    - 클래스 변수 생성하여 등록된 유저의 이름의 목록\n",
    "    - 유저의 정보를 출력하는 함수 생성\n",
    "    - 유저의 목록을 출력하는 함수 생성"
   ]
  },
  {
   "cell_type": "code",
   "execution_count": 145,
   "metadata": {},
   "outputs": [],
   "source": [
    "class User :\n",
    "    # 유저의 목록을 담아주기 위한 클래스 변수 생성\n",
    "    user_list = []\n",
    "\n",
    "    # 클래스 생성시 유저의 정보를 객체 변수에 담기 위한 생성자 함수 \n",
    "    def __init__ (self, _name, _age, _gender) :\n",
    "        # 객체변수에 입력값들을 저장\n",
    "        self.name = _name\n",
    "        self.age = _age\n",
    "        self.gender = _gender\n",
    "        # 클래스 변수에 유저의 이름을 추가\n",
    "        self.user_list.append(_name)\n",
    "        print (\"계정이 생성되었습니다.\")\n",
    "\n",
    "    # 유저의 정보를 출력하는 함수\n",
    "    def info(self) :\n",
    "        return f\"\"\"유저의 이름 : {self.name}, 나이 : {self.age}세, 성별 : {self.gender}\"\"\"\n",
    "    # 유저의 목록을 출력하는 함수 생성\n",
    "    def view_list(self) :\n",
    "        return self.user_list"
   ]
  },
  {
   "cell_type": "code",
   "execution_count": 146,
   "metadata": {},
   "outputs": [
    {
     "name": "stdout",
     "output_type": "stream",
     "text": [
      "계정이 생성되었습니다.\n"
     ]
    }
   ],
   "source": [
    "## 클래스를 생성\n",
    "user1 = User('kim', 20, 'female')"
   ]
  },
  {
   "cell_type": "code",
   "execution_count": 147,
   "metadata": {},
   "outputs": [
    {
     "data": {
      "text/plain": [
       "'유저의 이름 : kim, 나이 : 20세, 성별 : female'"
      ]
     },
     "execution_count": 147,
     "metadata": {},
     "output_type": "execute_result"
    }
   ],
   "source": [
    "## 클래스 내부의 함수를 호출\n",
    "user1.info()"
   ]
  },
  {
   "cell_type": "code",
   "execution_count": 148,
   "metadata": {},
   "outputs": [
    {
     "name": "stdout",
     "output_type": "stream",
     "text": [
      "계정이 생성되었습니다.\n"
     ]
    }
   ],
   "source": [
    "user2 = User('park', 25, 'male')"
   ]
  },
  {
   "cell_type": "code",
   "execution_count": 149,
   "metadata": {},
   "outputs": [
    {
     "data": {
      "text/plain": [
       "'유저의 이름 : park, 나이 : 25세, 성별 : male'"
      ]
     },
     "execution_count": 149,
     "metadata": {},
     "output_type": "execute_result"
    }
   ],
   "source": [
    "user2.info()"
   ]
  },
  {
   "cell_type": "code",
   "execution_count": 150,
   "metadata": {},
   "outputs": [
    {
     "data": {
      "text/plain": [
       "['kim', 'park']"
      ]
     },
     "execution_count": 150,
     "metadata": {},
     "output_type": "execute_result"
    }
   ],
   "source": [
    "user2.view_list()"
   ]
  },
  {
   "cell_type": "markdown",
   "metadata": {},
   "source": [
    "### 자식 클래스\n",
    "- 클래스의 이름은 Wallet\n",
    "- User 클래스를 상속받아서 사용\n",
    "- 지갑의 잔액이라는 객체 변수를 생성 기본값은 0으로 지정\n",
    "- 구매한 물품의 목록 (객체 변수)\n",
    "- work() 함수 생성\n",
    "    - 매개변수 1개\n",
    "    - 일의 종류에 따라 지갑의 잔액이 증가\n",
    "- buy() 함수 생성\n",
    "    - 매개변수 1개\n",
    "    - 구매하는 상품에 따라 지갑의 잔액이 감소\n",
    "    - 현재 지갑의 잔액보다 구매하려는 물품의 가격이 크다면 구매 불가\n"
   ]
  },
  {
   "cell_type": "code",
   "execution_count": 157,
   "metadata": {},
   "outputs": [],
   "source": [
    "class Wallet(User):\n",
    "    # 생성자 함수 : 매개변수 이름, 나이, 성별, 지갑의 잔액(=0)\n",
    "    def __init__ (\n",
    "            self,\n",
    "            _name,\n",
    "            _age,\n",
    "            _gender,\n",
    "            _balance = 0):\n",
    "        # 객체 변수 생성(이름, 나이, 성별, 지갑잔액, 구매한 물품 목록)\n",
    "        # User class 에 있는 객체 변수 : 이름, 나이, 성별\n",
    "        # Wallet class에서 새로 만드는 객체 변수 : 지갑 잔액, 구매한 물품 목록\n",
    "        self.balance = _balance\n",
    "        self.goods = []\n",
    "        # 부모 클래스에 있는 생성자 함수 호출\n",
    "        # 부모 클래스 : super()\n",
    "        super().__init__(_name, _age, _gender)\n",
    "    # work함수 작성 - 3개의 if문과 else문으로 적용\n",
    "    def work(self, _type) :\n",
    "        # 일의 종류에 따라 지갑의 잔액을 증가\n",
    "        # 서비스 직 : 2,500,00, 전문직 : 3,000,000, 분석가 : 5,000,000\n",
    "        # case1 (if)\n",
    "        if _type == '서비스직' :\n",
    "            # 지갑의 잔액을 증가시킨다\n",
    "            self.balance += 2500000\n",
    "            result = f\"{_type}의 일을 완료, 현재 잔액 :{self.balance}\"\n",
    "        elif _type == '전문직' :\n",
    "            self.balance += 3000000\n",
    "            result = f'{_type}의 일을 완료, 현재 잔액 :{self.balance}'\n",
    "        elif _type == '분석가' :\n",
    "            self.balance += 5000000\n",
    "            result = f'{_type}의 일을 완료, 현재 잔액 :{self.balance}'\n",
    "        else :\n",
    "            result = '등록되지 않은 일의 종류 입니다.'\n",
    "        return result\n",
    "    \n",
    "    # work2함수 작성 - 일의 종류를 dict 형태로 만들어서 적용\n",
    "    def work2(self, _type) :\n",
    "        types = {\n",
    "            '서비스직' : 2500000,\n",
    "            '전문직' : 3000000,\n",
    "            '분석가' : 5000000\n",
    "        }\n",
    "        if _type in types.keys() :\n",
    "            self.balance += types[_type]\n",
    "            result = f\"{_type}의 일을 완료, 현재 잔액 :{self.balance}\"\n",
    "        else :\n",
    "            result = \"등록되지 않은 일의 종류입니다.\"\n",
    "        return result\n",
    "    \n",
    "    # work3함수 작성 - if문 대신 try문을 이용하여 적용\n",
    "    def work3(self, _type) :\n",
    "        types = {\n",
    "            '서비스직' : 2500000,\n",
    "            '전문직' : 3000000,\n",
    "            '분석가' : 5000000\n",
    "        }\n",
    "        try :\n",
    "            self.balance += types[_type]\n",
    "            result = f\"{_type}일을 완료, 현재 잔액 : {self.balance} \"\n",
    "        except :\n",
    "            result = \"등록되지 않은 일의 종류입니다.\" \n",
    "        return result      \n",
    "    \n",
    "    # buy함수 작성 - 잔액보다 goods의 가격이 높은 경우 구매가 불가능하게 만들어야함\n",
    "    def buy(self, _type) :\n",
    "        types = {\n",
    "            '스텐바이미' : 1200000,\n",
    "            '맥북 프로' : 2700000,\n",
    "            '맥스튜디오' : 11500000,\n",
    "            '비전 프로' : 5200000\n",
    "        }\n",
    "        try :\n",
    "            # 상품가격 < self.balance : self.balance에서 상품 금액만큼 차감\n",
    "            # 상품가격 > self.balance : 구매 불가능\n",
    "            if self.balance >= types[_type] :\n",
    "                ## 지갑의 잔액을 물건의 가격만큼 차감\n",
    "                self.balance -= types[_type]\n",
    "\n",
    "                self.goods.append(_type)\n",
    "                result = f\"{_type} 구매 완료, 현재 잔액 : {self.balance}\"\n",
    "            else :\n",
    "                cost = types[_type] - self.balance\n",
    "                result = f\"구매 불가 {_type}를 사기위한 잔액이 {cost}만큼 부족합니다.\"\n",
    "        except :\n",
    "            result = \"등록된 물품이 아닙니다.\"\n",
    "        return result\n",
    "    \n",
    "    #override를 이용하여 info()함수를 변경\n",
    "    def info(self) :\n",
    "        result = f\"지갑의 주인은 {self.name}이며 나이는 {self.age}이고 지갑의 잔액은 {self.balance}이다.\"\n",
    "        return result"
   ]
  },
  {
   "cell_type": "code",
   "execution_count": 158,
   "metadata": {},
   "outputs": [
    {
     "name": "stdout",
     "output_type": "stream",
     "text": [
      "계정이 생성되었습니다.\n"
     ]
    }
   ],
   "source": [
    "wallet1 = Wallet('lee', 30, 'male')"
   ]
  },
  {
   "cell_type": "code",
   "execution_count": 159,
   "metadata": {},
   "outputs": [
    {
     "name": "stdout",
     "output_type": "stream",
     "text": [
      "계정이 생성되었습니다.\n"
     ]
    },
    {
     "data": {
      "text/plain": [
       "'전문직의 일을 완료, 현재 잔액 :3000000'"
      ]
     },
     "execution_count": 159,
     "metadata": {},
     "output_type": "execute_result"
    }
   ],
   "source": [
    "wallet2 = Wallet('choi', 25, 'female')\n",
    "wallet2.work('전문직')"
   ]
  },
  {
   "cell_type": "code",
   "execution_count": 154,
   "metadata": {},
   "outputs": [
    {
     "data": {
      "text/plain": [
       "'분석가의 일을 완료, 현재 잔액 :8000000'"
      ]
     },
     "execution_count": 154,
     "metadata": {},
     "output_type": "execute_result"
    }
   ],
   "source": [
    "# work()\n",
    "wallet2.work(\"분석가\")"
   ]
  },
  {
   "cell_type": "code",
   "execution_count": 155,
   "metadata": {},
   "outputs": [
    {
     "data": {
      "text/plain": [
       "'구매 불가 맥스튜디오를 사기위한 잔액이 6200000만큼 부족합니다.'"
      ]
     },
     "execution_count": 155,
     "metadata": {},
     "output_type": "execute_result"
    }
   ],
   "source": [
    "wallet2.buy(\"맥북 프로\")\n",
    "wallet2.buy(\"맥스튜디오\")"
   ]
  },
  {
   "cell_type": "code",
   "execution_count": 156,
   "metadata": {},
   "outputs": [
    {
     "name": "stdout",
     "output_type": "stream",
     "text": [
      "lee\n",
      "male\n",
      "0\n",
      "[]\n",
      "30\n",
      "['kim', 'park', 'lee', 'choi']\n"
     ]
    }
   ],
   "source": [
    "#wallet안에 있는 변수들을 호출\n",
    "print(wallet1.name)\n",
    "print(wallet1.gender)\n",
    "print(wallet1.balance)\n",
    "print(wallet1.goods)\n",
    "print(wallet1.age)\n",
    "print(wallet1.user_list)"
   ]
  },
  {
   "cell_type": "code",
   "execution_count": 160,
   "metadata": {},
   "outputs": [
    {
     "data": {
      "text/plain": [
       "'지갑의 주인은 lee이며 나이는 30이고 지갑의 잔액은 0이다.'"
      ]
     },
     "execution_count": 160,
     "metadata": {},
     "output_type": "execute_result"
    }
   ],
   "source": [
    "wallet1.info()"
   ]
  },
  {
   "cell_type": "code",
   "execution_count": 161,
   "metadata": {},
   "outputs": [
    {
     "data": {
      "text/plain": [
       "'지갑의 주인은 choi이며 나이는 25이고 지갑의 잔액은 3000000이다.'"
      ]
     },
     "execution_count": 161,
     "metadata": {},
     "output_type": "execute_result"
    }
   ],
   "source": [
    "wallet2.info()"
   ]
  },
  {
   "cell_type": "code",
   "execution_count": null,
   "metadata": {},
   "outputs": [],
   "source": []
  }
 ],
 "metadata": {
  "kernelspec": {
   "display_name": "base",
   "language": "python",
   "name": "python3"
  },
  "language_info": {
   "codemirror_mode": {
    "name": "ipython",
    "version": 3
   },
   "file_extension": ".py",
   "mimetype": "text/x-python",
   "name": "python",
   "nbconvert_exporter": "python",
   "pygments_lexer": "ipython3",
   "version": "3.11.5"
  }
 },
 "nbformat": 4,
 "nbformat_minor": 2
}
